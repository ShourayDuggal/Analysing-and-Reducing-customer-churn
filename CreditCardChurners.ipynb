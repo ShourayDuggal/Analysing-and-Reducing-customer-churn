{
 "cells": [
  {
   "attachments": {},
   "cell_type": "markdown",
   "metadata": {},
   "source": [
    "\n",
    "# **Description:** A manager at the bank is disturbed with more and more customers leaving their credit card services. They would really appreciate if one could predict for them which customer is gonna churn so they can proactively go to the customer to provide them better services and turn customers' decisions in the opposite direction.\n",
    "\n",
    "\n"
   ]
  },
  {
   "cell_type": "code",
   "execution_count": 584,
   "metadata": {},
   "outputs": [],
   "source": [
    "# Importing modules\n",
    "\n",
    "import warnings\n",
    "\n",
    "# data reading and manupilartion\n",
    "import pandas as pd\n",
    "import numpy as np\n",
    "\n",
    "# data visualization\n",
    "import matplotlib.pyplot as plt\n",
    "import seaborn as sns\n",
    "\n",
    "# statistical test\n",
    "from scipy.stats import chi2_contingency\n",
    "\n",
    "# import the splitter\n",
    "from sklearn.model_selection import train_test_split\n",
    "\n",
    "## data manupilation \n",
    "from sklearn.preprocessing import OneHotEncoder\n",
    "from sklearn.preprocessing import StandardScaler\n",
    "\n",
    "## modelling algorithims\n",
    "\n",
    "from sklearn.linear_model import LogisticRegression\n",
    "from sklearn.neighbors import KNeighborsClassifier\n",
    "from sklearn.tree import DecisionTreeClassifier\n",
    "from sklearn.ensemble import RandomForestClassifier\n",
    "## modelling with coss-val\n",
    "\n",
    "from sklearn.linear_model import LogisticRegressionCV\n",
    "from sklearn.model_selection import cross_val_score\n",
    "\n",
    "## importing model performance metrics\n",
    "from sklearn import metrics\n",
    "from sklearn.metrics import accuracy_score, confusion_matrix\n",
    "from sklearn.model_selection import GridSearchCV\n"
   ]
  },
  {
   "cell_type": "code",
   "execution_count": 585,
   "metadata": {},
   "outputs": [],
   "source": [
    "## supressing pandas warning messages.\n",
    "warnings.simplefilter(action='ignore')"
   ]
  },
  {
   "cell_type": "code",
   "execution_count": 586,
   "metadata": {},
   "outputs": [],
   "source": [
    "df = pd.read_csv(\"BankChurners.csv\") # DATA SOURCE \"KAGGLE\": [Data link](https://www.kaggle.com/datasets/sakshigoyal7/credit-card-customers?datasetId=982921&searchQuery=decision+trees)"
   ]
  },
  {
   "cell_type": "code",
   "execution_count": 587,
   "metadata": {},
   "outputs": [
    {
     "data": {
      "text/html": [
       "<div>\n",
       "<style scoped>\n",
       "    .dataframe tbody tr th:only-of-type {\n",
       "        vertical-align: middle;\n",
       "    }\n",
       "\n",
       "    .dataframe tbody tr th {\n",
       "        vertical-align: top;\n",
       "    }\n",
       "\n",
       "    .dataframe thead th {\n",
       "        text-align: right;\n",
       "    }\n",
       "</style>\n",
       "<table border=\"1\" class=\"dataframe\">\n",
       "  <thead>\n",
       "    <tr style=\"text-align: right;\">\n",
       "      <th></th>\n",
       "      <th>CLIENTNUM</th>\n",
       "      <th>Attrition_Flag</th>\n",
       "      <th>Customer_Age</th>\n",
       "      <th>Gender</th>\n",
       "      <th>Dependent_count</th>\n",
       "      <th>Education_Level</th>\n",
       "      <th>Marital_Status</th>\n",
       "      <th>Income_Category</th>\n",
       "      <th>Card_Category</th>\n",
       "      <th>Months_on_book</th>\n",
       "      <th>...</th>\n",
       "      <th>Credit_Limit</th>\n",
       "      <th>Total_Revolving_Bal</th>\n",
       "      <th>Avg_Open_To_Buy</th>\n",
       "      <th>Total_Amt_Chng_Q4_Q1</th>\n",
       "      <th>Total_Trans_Amt</th>\n",
       "      <th>Total_Trans_Ct</th>\n",
       "      <th>Total_Ct_Chng_Q4_Q1</th>\n",
       "      <th>Avg_Utilization_Ratio</th>\n",
       "      <th>Naive_Bayes_Classifier_Attrition_Flag_Card_Category_Contacts_Count_12_mon_Dependent_count_Education_Level_Months_Inactive_12_mon_1</th>\n",
       "      <th>Naive_Bayes_Classifier_Attrition_Flag_Card_Category_Contacts_Count_12_mon_Dependent_count_Education_Level_Months_Inactive_12_mon_2</th>\n",
       "    </tr>\n",
       "  </thead>\n",
       "  <tbody>\n",
       "    <tr>\n",
       "      <th>0</th>\n",
       "      <td>768805383</td>\n",
       "      <td>Existing Customer</td>\n",
       "      <td>45</td>\n",
       "      <td>M</td>\n",
       "      <td>3</td>\n",
       "      <td>High School</td>\n",
       "      <td>Married</td>\n",
       "      <td>$60K - $80K</td>\n",
       "      <td>Blue</td>\n",
       "      <td>39</td>\n",
       "      <td>...</td>\n",
       "      <td>12691.0</td>\n",
       "      <td>777</td>\n",
       "      <td>11914.0</td>\n",
       "      <td>1.335</td>\n",
       "      <td>1144</td>\n",
       "      <td>42</td>\n",
       "      <td>1.625</td>\n",
       "      <td>0.061</td>\n",
       "      <td>0.000093</td>\n",
       "      <td>0.99991</td>\n",
       "    </tr>\n",
       "    <tr>\n",
       "      <th>1</th>\n",
       "      <td>818770008</td>\n",
       "      <td>Existing Customer</td>\n",
       "      <td>49</td>\n",
       "      <td>F</td>\n",
       "      <td>5</td>\n",
       "      <td>Graduate</td>\n",
       "      <td>Single</td>\n",
       "      <td>Less than $40K</td>\n",
       "      <td>Blue</td>\n",
       "      <td>44</td>\n",
       "      <td>...</td>\n",
       "      <td>8256.0</td>\n",
       "      <td>864</td>\n",
       "      <td>7392.0</td>\n",
       "      <td>1.541</td>\n",
       "      <td>1291</td>\n",
       "      <td>33</td>\n",
       "      <td>3.714</td>\n",
       "      <td>0.105</td>\n",
       "      <td>0.000057</td>\n",
       "      <td>0.99994</td>\n",
       "    </tr>\n",
       "    <tr>\n",
       "      <th>2</th>\n",
       "      <td>713982108</td>\n",
       "      <td>Existing Customer</td>\n",
       "      <td>51</td>\n",
       "      <td>M</td>\n",
       "      <td>3</td>\n",
       "      <td>Graduate</td>\n",
       "      <td>Married</td>\n",
       "      <td>$80K - $120K</td>\n",
       "      <td>Blue</td>\n",
       "      <td>36</td>\n",
       "      <td>...</td>\n",
       "      <td>3418.0</td>\n",
       "      <td>0</td>\n",
       "      <td>3418.0</td>\n",
       "      <td>2.594</td>\n",
       "      <td>1887</td>\n",
       "      <td>20</td>\n",
       "      <td>2.333</td>\n",
       "      <td>0.000</td>\n",
       "      <td>0.000021</td>\n",
       "      <td>0.99998</td>\n",
       "    </tr>\n",
       "    <tr>\n",
       "      <th>3</th>\n",
       "      <td>769911858</td>\n",
       "      <td>Existing Customer</td>\n",
       "      <td>40</td>\n",
       "      <td>F</td>\n",
       "      <td>4</td>\n",
       "      <td>High School</td>\n",
       "      <td>Unknown</td>\n",
       "      <td>Less than $40K</td>\n",
       "      <td>Blue</td>\n",
       "      <td>34</td>\n",
       "      <td>...</td>\n",
       "      <td>3313.0</td>\n",
       "      <td>2517</td>\n",
       "      <td>796.0</td>\n",
       "      <td>1.405</td>\n",
       "      <td>1171</td>\n",
       "      <td>20</td>\n",
       "      <td>2.333</td>\n",
       "      <td>0.760</td>\n",
       "      <td>0.000134</td>\n",
       "      <td>0.99987</td>\n",
       "    </tr>\n",
       "    <tr>\n",
       "      <th>4</th>\n",
       "      <td>709106358</td>\n",
       "      <td>Existing Customer</td>\n",
       "      <td>40</td>\n",
       "      <td>M</td>\n",
       "      <td>3</td>\n",
       "      <td>Uneducated</td>\n",
       "      <td>Married</td>\n",
       "      <td>$60K - $80K</td>\n",
       "      <td>Blue</td>\n",
       "      <td>21</td>\n",
       "      <td>...</td>\n",
       "      <td>4716.0</td>\n",
       "      <td>0</td>\n",
       "      <td>4716.0</td>\n",
       "      <td>2.175</td>\n",
       "      <td>816</td>\n",
       "      <td>28</td>\n",
       "      <td>2.500</td>\n",
       "      <td>0.000</td>\n",
       "      <td>0.000022</td>\n",
       "      <td>0.99998</td>\n",
       "    </tr>\n",
       "  </tbody>\n",
       "</table>\n",
       "<p>5 rows × 23 columns</p>\n",
       "</div>"
      ],
      "text/plain": [
       "   CLIENTNUM     Attrition_Flag  Customer_Age Gender  Dependent_count  \\\n",
       "0  768805383  Existing Customer            45      M                3   \n",
       "1  818770008  Existing Customer            49      F                5   \n",
       "2  713982108  Existing Customer            51      M                3   \n",
       "3  769911858  Existing Customer            40      F                4   \n",
       "4  709106358  Existing Customer            40      M                3   \n",
       "\n",
       "  Education_Level Marital_Status Income_Category Card_Category  \\\n",
       "0     High School        Married     $60K - $80K          Blue   \n",
       "1        Graduate         Single  Less than $40K          Blue   \n",
       "2        Graduate        Married    $80K - $120K          Blue   \n",
       "3     High School        Unknown  Less than $40K          Blue   \n",
       "4      Uneducated        Married     $60K - $80K          Blue   \n",
       "\n",
       "   Months_on_book  ...  Credit_Limit  Total_Revolving_Bal  Avg_Open_To_Buy  \\\n",
       "0              39  ...       12691.0                  777          11914.0   \n",
       "1              44  ...        8256.0                  864           7392.0   \n",
       "2              36  ...        3418.0                    0           3418.0   \n",
       "3              34  ...        3313.0                 2517            796.0   \n",
       "4              21  ...        4716.0                    0           4716.0   \n",
       "\n",
       "   Total_Amt_Chng_Q4_Q1  Total_Trans_Amt  Total_Trans_Ct  Total_Ct_Chng_Q4_Q1  \\\n",
       "0                 1.335             1144              42                1.625   \n",
       "1                 1.541             1291              33                3.714   \n",
       "2                 2.594             1887              20                2.333   \n",
       "3                 1.405             1171              20                2.333   \n",
       "4                 2.175              816              28                2.500   \n",
       "\n",
       "   Avg_Utilization_Ratio  \\\n",
       "0                  0.061   \n",
       "1                  0.105   \n",
       "2                  0.000   \n",
       "3                  0.760   \n",
       "4                  0.000   \n",
       "\n",
       "   Naive_Bayes_Classifier_Attrition_Flag_Card_Category_Contacts_Count_12_mon_Dependent_count_Education_Level_Months_Inactive_12_mon_1  \\\n",
       "0                                           0.000093                                                                                    \n",
       "1                                           0.000057                                                                                    \n",
       "2                                           0.000021                                                                                    \n",
       "3                                           0.000134                                                                                    \n",
       "4                                           0.000022                                                                                    \n",
       "\n",
       "   Naive_Bayes_Classifier_Attrition_Flag_Card_Category_Contacts_Count_12_mon_Dependent_count_Education_Level_Months_Inactive_12_mon_2  \n",
       "0                                            0.99991                                                                                   \n",
       "1                                            0.99994                                                                                   \n",
       "2                                            0.99998                                                                                   \n",
       "3                                            0.99987                                                                                   \n",
       "4                                            0.99998                                                                                   \n",
       "\n",
       "[5 rows x 23 columns]"
      ]
     },
     "execution_count": 587,
     "metadata": {},
     "output_type": "execute_result"
    }
   ],
   "source": [
    "df.head()"
   ]
  },
  {
   "cell_type": "code",
   "execution_count": 588,
   "metadata": {},
   "outputs": [],
   "source": [
    "df.drop(columns = list(df.columns[-2:]), inplace = True) ## droping some columns about bayes classifier: not required for our analysis."
   ]
  },
  {
   "cell_type": "code",
   "execution_count": 589,
   "metadata": {},
   "outputs": [
    {
     "name": "stdout",
     "output_type": "stream",
     "text": [
      "<class 'pandas.core.frame.DataFrame'>\n",
      "RangeIndex: 10127 entries, 0 to 10126\n",
      "Data columns (total 21 columns):\n",
      " #   Column                    Non-Null Count  Dtype  \n",
      "---  ------                    --------------  -----  \n",
      " 0   CLIENTNUM                 10127 non-null  int64  \n",
      " 1   Attrition_Flag            10127 non-null  object \n",
      " 2   Customer_Age              10127 non-null  int64  \n",
      " 3   Gender                    10127 non-null  object \n",
      " 4   Dependent_count           10127 non-null  int64  \n",
      " 5   Education_Level           10127 non-null  object \n",
      " 6   Marital_Status            10127 non-null  object \n",
      " 7   Income_Category           10127 non-null  object \n",
      " 8   Card_Category             10127 non-null  object \n",
      " 9   Months_on_book            10127 non-null  int64  \n",
      " 10  Total_Relationship_Count  10127 non-null  int64  \n",
      " 11  Months_Inactive_12_mon    10127 non-null  int64  \n",
      " 12  Contacts_Count_12_mon     10127 non-null  int64  \n",
      " 13  Credit_Limit              10127 non-null  float64\n",
      " 14  Total_Revolving_Bal       10127 non-null  int64  \n",
      " 15  Avg_Open_To_Buy           10127 non-null  float64\n",
      " 16  Total_Amt_Chng_Q4_Q1      10127 non-null  float64\n",
      " 17  Total_Trans_Amt           10127 non-null  int64  \n",
      " 18  Total_Trans_Ct            10127 non-null  int64  \n",
      " 19  Total_Ct_Chng_Q4_Q1       10127 non-null  float64\n",
      " 20  Avg_Utilization_Ratio     10127 non-null  float64\n",
      "dtypes: float64(5), int64(10), object(6)\n",
      "memory usage: 1.6+ MB\n",
      "None\n"
     ]
    }
   ],
   "source": [
    "print(df.info())"
   ]
  },
  {
   "cell_type": "code",
   "execution_count": 590,
   "metadata": {},
   "outputs": [
    {
     "data": {
      "text/plain": [
       "(10127, 21)"
      ]
     },
     "execution_count": 590,
     "metadata": {},
     "output_type": "execute_result"
    }
   ],
   "source": [
    "df.shape"
   ]
  },
  {
   "cell_type": "code",
   "execution_count": 591,
   "metadata": {},
   "outputs": [
    {
     "data": {
      "text/plain": [
       "CLIENTNUM                   0\n",
       "Attrition_Flag              0\n",
       "Customer_Age                0\n",
       "Gender                      0\n",
       "Dependent_count             0\n",
       "Education_Level             0\n",
       "Marital_Status              0\n",
       "Income_Category             0\n",
       "Card_Category               0\n",
       "Months_on_book              0\n",
       "Total_Relationship_Count    0\n",
       "Months_Inactive_12_mon      0\n",
       "Contacts_Count_12_mon       0\n",
       "Credit_Limit                0\n",
       "Total_Revolving_Bal         0\n",
       "Avg_Open_To_Buy             0\n",
       "Total_Amt_Chng_Q4_Q1        0\n",
       "Total_Trans_Amt             0\n",
       "Total_Trans_Ct              0\n",
       "Total_Ct_Chng_Q4_Q1         0\n",
       "Avg_Utilization_Ratio       0\n",
       "dtype: int64"
      ]
     },
     "execution_count": 591,
     "metadata": {},
     "output_type": "execute_result"
    }
   ],
   "source": [
    "(df.isna()).sum()"
   ]
  },
  {
   "attachments": {},
   "cell_type": "markdown",
   "metadata": {},
   "source": [
    "## NO NAN VALUES?"
   ]
  },
  {
   "cell_type": "code",
   "execution_count": 592,
   "metadata": {},
   "outputs": [
    {
     "data": {
      "text/html": [
       "<div>\n",
       "<style scoped>\n",
       "    .dataframe tbody tr th:only-of-type {\n",
       "        vertical-align: middle;\n",
       "    }\n",
       "\n",
       "    .dataframe tbody tr th {\n",
       "        vertical-align: top;\n",
       "    }\n",
       "\n",
       "    .dataframe thead th {\n",
       "        text-align: right;\n",
       "    }\n",
       "</style>\n",
       "<table border=\"1\" class=\"dataframe\">\n",
       "  <thead>\n",
       "    <tr style=\"text-align: right;\">\n",
       "      <th></th>\n",
       "      <th>count</th>\n",
       "      <th>mean</th>\n",
       "      <th>std</th>\n",
       "      <th>min</th>\n",
       "      <th>25%</th>\n",
       "      <th>50%</th>\n",
       "      <th>75%</th>\n",
       "      <th>max</th>\n",
       "    </tr>\n",
       "  </thead>\n",
       "  <tbody>\n",
       "    <tr>\n",
       "      <th>CLIENTNUM</th>\n",
       "      <td>10127.0</td>\n",
       "      <td>7.391776e+08</td>\n",
       "      <td>3.690378e+07</td>\n",
       "      <td>708082083.0</td>\n",
       "      <td>7.130368e+08</td>\n",
       "      <td>7.179264e+08</td>\n",
       "      <td>7.731435e+08</td>\n",
       "      <td>8.283431e+08</td>\n",
       "    </tr>\n",
       "    <tr>\n",
       "      <th>Customer_Age</th>\n",
       "      <td>10127.0</td>\n",
       "      <td>4.632596e+01</td>\n",
       "      <td>8.016814e+00</td>\n",
       "      <td>26.0</td>\n",
       "      <td>4.100000e+01</td>\n",
       "      <td>4.600000e+01</td>\n",
       "      <td>5.200000e+01</td>\n",
       "      <td>7.300000e+01</td>\n",
       "    </tr>\n",
       "    <tr>\n",
       "      <th>Dependent_count</th>\n",
       "      <td>10127.0</td>\n",
       "      <td>2.346203e+00</td>\n",
       "      <td>1.298908e+00</td>\n",
       "      <td>0.0</td>\n",
       "      <td>1.000000e+00</td>\n",
       "      <td>2.000000e+00</td>\n",
       "      <td>3.000000e+00</td>\n",
       "      <td>5.000000e+00</td>\n",
       "    </tr>\n",
       "    <tr>\n",
       "      <th>Months_on_book</th>\n",
       "      <td>10127.0</td>\n",
       "      <td>3.592841e+01</td>\n",
       "      <td>7.986416e+00</td>\n",
       "      <td>13.0</td>\n",
       "      <td>3.100000e+01</td>\n",
       "      <td>3.600000e+01</td>\n",
       "      <td>4.000000e+01</td>\n",
       "      <td>5.600000e+01</td>\n",
       "    </tr>\n",
       "    <tr>\n",
       "      <th>Total_Relationship_Count</th>\n",
       "      <td>10127.0</td>\n",
       "      <td>3.812580e+00</td>\n",
       "      <td>1.554408e+00</td>\n",
       "      <td>1.0</td>\n",
       "      <td>3.000000e+00</td>\n",
       "      <td>4.000000e+00</td>\n",
       "      <td>5.000000e+00</td>\n",
       "      <td>6.000000e+00</td>\n",
       "    </tr>\n",
       "    <tr>\n",
       "      <th>Months_Inactive_12_mon</th>\n",
       "      <td>10127.0</td>\n",
       "      <td>2.341167e+00</td>\n",
       "      <td>1.010622e+00</td>\n",
       "      <td>0.0</td>\n",
       "      <td>2.000000e+00</td>\n",
       "      <td>2.000000e+00</td>\n",
       "      <td>3.000000e+00</td>\n",
       "      <td>6.000000e+00</td>\n",
       "    </tr>\n",
       "    <tr>\n",
       "      <th>Contacts_Count_12_mon</th>\n",
       "      <td>10127.0</td>\n",
       "      <td>2.455317e+00</td>\n",
       "      <td>1.106225e+00</td>\n",
       "      <td>0.0</td>\n",
       "      <td>2.000000e+00</td>\n",
       "      <td>2.000000e+00</td>\n",
       "      <td>3.000000e+00</td>\n",
       "      <td>6.000000e+00</td>\n",
       "    </tr>\n",
       "    <tr>\n",
       "      <th>Credit_Limit</th>\n",
       "      <td>10127.0</td>\n",
       "      <td>8.631954e+03</td>\n",
       "      <td>9.088777e+03</td>\n",
       "      <td>1438.3</td>\n",
       "      <td>2.555000e+03</td>\n",
       "      <td>4.549000e+03</td>\n",
       "      <td>1.106750e+04</td>\n",
       "      <td>3.451600e+04</td>\n",
       "    </tr>\n",
       "    <tr>\n",
       "      <th>Total_Revolving_Bal</th>\n",
       "      <td>10127.0</td>\n",
       "      <td>1.162814e+03</td>\n",
       "      <td>8.149873e+02</td>\n",
       "      <td>0.0</td>\n",
       "      <td>3.590000e+02</td>\n",
       "      <td>1.276000e+03</td>\n",
       "      <td>1.784000e+03</td>\n",
       "      <td>2.517000e+03</td>\n",
       "    </tr>\n",
       "    <tr>\n",
       "      <th>Avg_Open_To_Buy</th>\n",
       "      <td>10127.0</td>\n",
       "      <td>7.469140e+03</td>\n",
       "      <td>9.090685e+03</td>\n",
       "      <td>3.0</td>\n",
       "      <td>1.324500e+03</td>\n",
       "      <td>3.474000e+03</td>\n",
       "      <td>9.859000e+03</td>\n",
       "      <td>3.451600e+04</td>\n",
       "    </tr>\n",
       "    <tr>\n",
       "      <th>Total_Amt_Chng_Q4_Q1</th>\n",
       "      <td>10127.0</td>\n",
       "      <td>7.599407e-01</td>\n",
       "      <td>2.192068e-01</td>\n",
       "      <td>0.0</td>\n",
       "      <td>6.310000e-01</td>\n",
       "      <td>7.360000e-01</td>\n",
       "      <td>8.590000e-01</td>\n",
       "      <td>3.397000e+00</td>\n",
       "    </tr>\n",
       "    <tr>\n",
       "      <th>Total_Trans_Amt</th>\n",
       "      <td>10127.0</td>\n",
       "      <td>4.404086e+03</td>\n",
       "      <td>3.397129e+03</td>\n",
       "      <td>510.0</td>\n",
       "      <td>2.155500e+03</td>\n",
       "      <td>3.899000e+03</td>\n",
       "      <td>4.741000e+03</td>\n",
       "      <td>1.848400e+04</td>\n",
       "    </tr>\n",
       "    <tr>\n",
       "      <th>Total_Trans_Ct</th>\n",
       "      <td>10127.0</td>\n",
       "      <td>6.485869e+01</td>\n",
       "      <td>2.347257e+01</td>\n",
       "      <td>10.0</td>\n",
       "      <td>4.500000e+01</td>\n",
       "      <td>6.700000e+01</td>\n",
       "      <td>8.100000e+01</td>\n",
       "      <td>1.390000e+02</td>\n",
       "    </tr>\n",
       "    <tr>\n",
       "      <th>Total_Ct_Chng_Q4_Q1</th>\n",
       "      <td>10127.0</td>\n",
       "      <td>7.122224e-01</td>\n",
       "      <td>2.380861e-01</td>\n",
       "      <td>0.0</td>\n",
       "      <td>5.820000e-01</td>\n",
       "      <td>7.020000e-01</td>\n",
       "      <td>8.180000e-01</td>\n",
       "      <td>3.714000e+00</td>\n",
       "    </tr>\n",
       "    <tr>\n",
       "      <th>Avg_Utilization_Ratio</th>\n",
       "      <td>10127.0</td>\n",
       "      <td>2.748936e-01</td>\n",
       "      <td>2.756915e-01</td>\n",
       "      <td>0.0</td>\n",
       "      <td>2.300000e-02</td>\n",
       "      <td>1.760000e-01</td>\n",
       "      <td>5.030000e-01</td>\n",
       "      <td>9.990000e-01</td>\n",
       "    </tr>\n",
       "  </tbody>\n",
       "</table>\n",
       "</div>"
      ],
      "text/plain": [
       "                            count          mean           std          min  \\\n",
       "CLIENTNUM                 10127.0  7.391776e+08  3.690378e+07  708082083.0   \n",
       "Customer_Age              10127.0  4.632596e+01  8.016814e+00         26.0   \n",
       "Dependent_count           10127.0  2.346203e+00  1.298908e+00          0.0   \n",
       "Months_on_book            10127.0  3.592841e+01  7.986416e+00         13.0   \n",
       "Total_Relationship_Count  10127.0  3.812580e+00  1.554408e+00          1.0   \n",
       "Months_Inactive_12_mon    10127.0  2.341167e+00  1.010622e+00          0.0   \n",
       "Contacts_Count_12_mon     10127.0  2.455317e+00  1.106225e+00          0.0   \n",
       "Credit_Limit              10127.0  8.631954e+03  9.088777e+03       1438.3   \n",
       "Total_Revolving_Bal       10127.0  1.162814e+03  8.149873e+02          0.0   \n",
       "Avg_Open_To_Buy           10127.0  7.469140e+03  9.090685e+03          3.0   \n",
       "Total_Amt_Chng_Q4_Q1      10127.0  7.599407e-01  2.192068e-01          0.0   \n",
       "Total_Trans_Amt           10127.0  4.404086e+03  3.397129e+03        510.0   \n",
       "Total_Trans_Ct            10127.0  6.485869e+01  2.347257e+01         10.0   \n",
       "Total_Ct_Chng_Q4_Q1       10127.0  7.122224e-01  2.380861e-01          0.0   \n",
       "Avg_Utilization_Ratio     10127.0  2.748936e-01  2.756915e-01          0.0   \n",
       "\n",
       "                                   25%           50%           75%  \\\n",
       "CLIENTNUM                 7.130368e+08  7.179264e+08  7.731435e+08   \n",
       "Customer_Age              4.100000e+01  4.600000e+01  5.200000e+01   \n",
       "Dependent_count           1.000000e+00  2.000000e+00  3.000000e+00   \n",
       "Months_on_book            3.100000e+01  3.600000e+01  4.000000e+01   \n",
       "Total_Relationship_Count  3.000000e+00  4.000000e+00  5.000000e+00   \n",
       "Months_Inactive_12_mon    2.000000e+00  2.000000e+00  3.000000e+00   \n",
       "Contacts_Count_12_mon     2.000000e+00  2.000000e+00  3.000000e+00   \n",
       "Credit_Limit              2.555000e+03  4.549000e+03  1.106750e+04   \n",
       "Total_Revolving_Bal       3.590000e+02  1.276000e+03  1.784000e+03   \n",
       "Avg_Open_To_Buy           1.324500e+03  3.474000e+03  9.859000e+03   \n",
       "Total_Amt_Chng_Q4_Q1      6.310000e-01  7.360000e-01  8.590000e-01   \n",
       "Total_Trans_Amt           2.155500e+03  3.899000e+03  4.741000e+03   \n",
       "Total_Trans_Ct            4.500000e+01  6.700000e+01  8.100000e+01   \n",
       "Total_Ct_Chng_Q4_Q1       5.820000e-01  7.020000e-01  8.180000e-01   \n",
       "Avg_Utilization_Ratio     2.300000e-02  1.760000e-01  5.030000e-01   \n",
       "\n",
       "                                   max  \n",
       "CLIENTNUM                 8.283431e+08  \n",
       "Customer_Age              7.300000e+01  \n",
       "Dependent_count           5.000000e+00  \n",
       "Months_on_book            5.600000e+01  \n",
       "Total_Relationship_Count  6.000000e+00  \n",
       "Months_Inactive_12_mon    6.000000e+00  \n",
       "Contacts_Count_12_mon     6.000000e+00  \n",
       "Credit_Limit              3.451600e+04  \n",
       "Total_Revolving_Bal       2.517000e+03  \n",
       "Avg_Open_To_Buy           3.451600e+04  \n",
       "Total_Amt_Chng_Q4_Q1      3.397000e+00  \n",
       "Total_Trans_Amt           1.848400e+04  \n",
       "Total_Trans_Ct            1.390000e+02  \n",
       "Total_Ct_Chng_Q4_Q1       3.714000e+00  \n",
       "Avg_Utilization_Ratio     9.990000e-01  "
      ]
     },
     "execution_count": 592,
     "metadata": {},
     "output_type": "execute_result"
    }
   ],
   "source": [
    "# sum statistics for numerical columns\n",
    "df.loc[:,(df.dtypes != object)].describe().T"
   ]
  },
  {
   "cell_type": "code",
   "execution_count": 593,
   "metadata": {},
   "outputs": [],
   "source": [
    "## what do we see?\n",
    "\n",
    "## clientnum is just a client id, doesn't really have any predictive relevance: set it as index.\n",
    "## different scale of different variables, we will need to standardise variables for logistic regression and perhaps nn?\n"
   ]
  },
  {
   "cell_type": "code",
   "execution_count": 594,
   "metadata": {},
   "outputs": [
    {
     "data": {
      "text/html": [
       "<div>\n",
       "<style scoped>\n",
       "    .dataframe tbody tr th:only-of-type {\n",
       "        vertical-align: middle;\n",
       "    }\n",
       "\n",
       "    .dataframe tbody tr th {\n",
       "        vertical-align: top;\n",
       "    }\n",
       "\n",
       "    .dataframe thead th {\n",
       "        text-align: right;\n",
       "    }\n",
       "</style>\n",
       "<table border=\"1\" class=\"dataframe\">\n",
       "  <thead>\n",
       "    <tr style=\"text-align: right;\">\n",
       "      <th></th>\n",
       "      <th>Attrition_Flag</th>\n",
       "      <th>Gender</th>\n",
       "      <th>Education_Level</th>\n",
       "      <th>Marital_Status</th>\n",
       "      <th>Income_Category</th>\n",
       "      <th>Card_Category</th>\n",
       "    </tr>\n",
       "  </thead>\n",
       "  <tbody>\n",
       "    <tr>\n",
       "      <th>count</th>\n",
       "      <td>10127</td>\n",
       "      <td>10127</td>\n",
       "      <td>10127</td>\n",
       "      <td>10127</td>\n",
       "      <td>10127</td>\n",
       "      <td>10127</td>\n",
       "    </tr>\n",
       "    <tr>\n",
       "      <th>unique</th>\n",
       "      <td>2</td>\n",
       "      <td>2</td>\n",
       "      <td>7</td>\n",
       "      <td>4</td>\n",
       "      <td>6</td>\n",
       "      <td>4</td>\n",
       "    </tr>\n",
       "    <tr>\n",
       "      <th>top</th>\n",
       "      <td>Existing Customer</td>\n",
       "      <td>F</td>\n",
       "      <td>Graduate</td>\n",
       "      <td>Married</td>\n",
       "      <td>Less than $40K</td>\n",
       "      <td>Blue</td>\n",
       "    </tr>\n",
       "    <tr>\n",
       "      <th>freq</th>\n",
       "      <td>8500</td>\n",
       "      <td>5358</td>\n",
       "      <td>3128</td>\n",
       "      <td>4687</td>\n",
       "      <td>3561</td>\n",
       "      <td>9436</td>\n",
       "    </tr>\n",
       "  </tbody>\n",
       "</table>\n",
       "</div>"
      ],
      "text/plain": [
       "           Attrition_Flag Gender Education_Level Marital_Status  \\\n",
       "count               10127  10127           10127          10127   \n",
       "unique                  2      2               7              4   \n",
       "top     Existing Customer      F        Graduate        Married   \n",
       "freq                 8500   5358            3128           4687   \n",
       "\n",
       "       Income_Category Card_Category  \n",
       "count            10127         10127  \n",
       "unique               6             4  \n",
       "top     Less than $40K          Blue  \n",
       "freq              3561          9436  "
      ]
     },
     "execution_count": 594,
     "metadata": {},
     "output_type": "execute_result"
    }
   ],
   "source": [
    "# describing non-numerical columns\n",
    "df.loc[:,(df.dtypes == object)].describe()"
   ]
  },
  {
   "cell_type": "code",
   "execution_count": 595,
   "metadata": {},
   "outputs": [
    {
     "name": "stdout",
     "output_type": "stream",
     "text": [
      "Attrition_Flag\n"
     ]
    },
    {
     "data": {
      "image/png": "[encoded data removed]",
      "text/plain": [
       "<Figure size 432x288 with 1 Axes>"
      ]
     },
     "metadata": {
      "needs_background": "light"
     },
     "output_type": "display_data"
    },
    {
     "name": "stdout",
     "output_type": "stream",
     "text": [
      "Gender\n"
     ]
    },
    {
     "data": {
      "image/png": "[encoded data removed]",
      "text/plain": [
       "<Figure size 432x288 with 1 Axes>"
      ]
     },
     "metadata": {
      "needs_background": "light"
     },
     "output_type": "display_data"
    },
    {
     "name": "stdout",
     "output_type": "stream",
     "text": [
      "Education_Level\n"
     ]
    },
    {
     "data": {
      "image/png": "[encoded data removed]",
      "text/plain": [
       "<Figure size 432x288 with 1 Axes>"
      ]
     },
     "metadata": {
      "needs_background": "light"
     },
     "output_type": "display_data"
    },
    {
     "name": "stdout",
     "output_type": "stream",
     "text": [
      "Marital_Status\n"
     ]
    },
    {
     "data": {
      "image/png": "[encoded data removed]",
      "text/plain": [
       "<Figure size 432x288 with 1 Axes>"
      ]
     },
     "metadata": {
      "needs_background": "light"
     },
     "output_type": "display_data"
    },
    {
     "name": "stdout",
     "output_type": "stream",
     "text": [
      "Income_Category\n"
     ]
    },
    {
     "data": {
      "image/png": "[encoded data removed]",
      "text/plain": [
       "<Figure size 432x288 with 1 Axes>"
      ]
     },
     "metadata": {
      "needs_background": "light"
     },
     "output_type": "display_data"
    },
    {
     "name": "stdout",
     "output_type": "stream",
     "text": [
      "Card_Category\n"
     ]
    },
    {
     "data": {
      "image/png": "[encoded data removed]",
      "text/plain": [
       "<Figure size 432x288 with 1 Axes>"
      ]
     },
     "metadata": {
      "needs_background": "light"
     },
     "output_type": "display_data"
    }
   ],
   "source": [
    "catagorical_df = df.loc[:,(df.dtypes == object)]\n",
    "for column in catagorical_df:\n",
    "    print(column)\n",
    "    (df.loc[:,column].value_counts(normalize=True)*100).plot(kind = 'barh')\n",
    "    sns\n",
    "    plt.show()"
   ]
  },
  {
   "cell_type": "code",
   "execution_count": 596,
   "metadata": {},
   "outputs": [],
   "source": [
    "## what do we see?\n",
    "\n",
    "\n",
    "## 'Unknown' value set in Income_category, Education_Level, Marital_Status: drop these rows? \n",
    "## The distributin of the predicting variable looks concentrated we might have to rebalence data if models perform poorly.\n",
    "# income category/educatin_level/ card_category: ordinal variable where catagory has ranks?\n"
   ]
  },
  {
   "attachments": {},
   "cell_type": "markdown",
   "metadata": {},
   "source": [
    "## begining processing data\n",
    "\n",
    "-> step 1: deal with 'Unknown' and CLIENTNUM\n"
   ]
  },
  {
   "cell_type": "code",
   "execution_count": 597,
   "metadata": {},
   "outputs": [
    {
     "data": {
      "text/plain": [
       "Attrition_Flag                 0\n",
       "Customer_Age                   0\n",
       "Gender                         0\n",
       "Dependent_count                0\n",
       "Education_Level             1519\n",
       "Marital_Status               749\n",
       "Income_Category             1112\n",
       "Card_Category                  0\n",
       "Months_on_book                 0\n",
       "Total_Relationship_Count       0\n",
       "Months_Inactive_12_mon         0\n",
       "Contacts_Count_12_mon          0\n",
       "Credit_Limit                   0\n",
       "Total_Revolving_Bal            0\n",
       "Avg_Open_To_Buy                0\n",
       "Total_Amt_Chng_Q4_Q1           0\n",
       "Total_Trans_Amt                0\n",
       "Total_Trans_Ct                 0\n",
       "Total_Ct_Chng_Q4_Q1            0\n",
       "Avg_Utilization_Ratio          0\n",
       "dtype: int64"
      ]
     },
     "execution_count": 597,
     "metadata": {},
     "output_type": "execute_result"
    }
   ],
   "source": [
    "# setting CLIENTNUM as index\n",
    "df.set_index('CLIENTNUM', inplace = True)\n",
    "df.replace('Unknown', np.nan, inplace=True)\n",
    "(df.isna()).sum()"
   ]
  },
  {
   "cell_type": "code",
   "execution_count": 598,
   "metadata": {},
   "outputs": [
    {
     "name": "stdout",
     "output_type": "stream",
     "text": [
      "orignal : (10127, 20)\n",
      "after droping : (7081, 20)\n",
      "observations left:  69.92199071788289\n"
     ]
    }
   ],
   "source": [
    "df_droped = df.dropna()\n",
    "print('orignal :', df.shape)\n",
    "print('after droping :', df_droped.shape)\n",
    "print('observations left: ', df_droped.shape[0] * 100/ df.shape[0])"
   ]
  },
  {
   "cell_type": "code",
   "execution_count": 599,
   "metadata": {},
   "outputs": [],
   "source": [
    "## 31% of the dataset may be gone, although 7081 observations may be enough we can investigate \n",
    "## how important are the features income category, educational_level and marital_status since they contain nan values\n",
    "## we perform a chi-squared test to check whether Attrition_Flag is dependant or independant of the said variables at 5% significance level"
   ]
  },
  {
   "attachments": {},
   "cell_type": "markdown",
   "metadata": {},
   "source": [
    "### checking if droping observations with nan is better or droping some irrelevant features. performing chi-squared tests to check relevance of features with nan valuies "
   ]
  },
  {
   "cell_type": "code",
   "execution_count": 600,
   "metadata": {},
   "outputs": [
    {
     "data": {
      "text/plain": [
       "0.0448788781974001"
      ]
     },
     "execution_count": 600,
     "metadata": {},
     "output_type": "execute_result"
    }
   ],
   "source": [
    "# H₀: Attrition_Flag and educational_level are independent, i.e. no relationship\n",
    "# H₁: Attrition_Flag and educational_level are dependent, i.e. there may be a relationship\n",
    "# α = 0.05\n",
    "\n",
    "data_crosstab = pd.crosstab(df_droped['Attrition_Flag'],\n",
    "                            df_droped['Education_Level'])\n",
    "## calculated a cross tab with observed frequency of each 'educational_level' value against attiration flag.\n",
    "stat, p, dof, expected = chi2_contingency(data_crosstab, correction=True)\n",
    "\n",
    "\n",
    "## the function will claculate the expected frequency tab of how values would ideally look like \n",
    "## if infact the two are independant and then calculate chi-squared statistic and the associated p value accordingly\n",
    "p\n"
   ]
  },
  {
   "cell_type": "code",
   "execution_count": 601,
   "metadata": {},
   "outputs": [],
   "source": [
    "## since pval < 0.05 we can reject the null and therefore **can not** say Attrition_Flag and educational_level are independant.\n",
    "## furthermore, we can not drop the column from the dataset."
   ]
  },
  {
   "cell_type": "code",
   "execution_count": 602,
   "metadata": {},
   "outputs": [
    {
     "data": {
      "text/plain": [
       "0.11961462178017869"
      ]
     },
     "execution_count": 602,
     "metadata": {},
     "output_type": "execute_result"
    }
   ],
   "source": [
    "# H₀: Attrition_Flag and Marital_Status are independent, i.e. no relationship\n",
    "# H₁: Attrition_Flag and Marital_Status are dependent, i.e. there may be a relationship\n",
    "# α = 0.05\n",
    "\n",
    "data_crosstab = pd.crosstab(df_droped['Attrition_Flag'],\n",
    "                            df_droped['Marital_Status'])\n",
    "\n",
    "stat, p, dof, expected = chi2_contingency(data_crosstab)\n",
    "p"
   ]
  },
  {
   "cell_type": "code",
   "execution_count": 603,
   "metadata": {},
   "outputs": [],
   "source": [
    "## since pval > 0.05 we can not reject the null and therefore **can** say Attrition_Flag and Marital_Status are independant.\n",
    "## furthermore, we can drop the column from the dataset."
   ]
  },
  {
   "cell_type": "code",
   "execution_count": 604,
   "metadata": {},
   "outputs": [
    {
     "data": {
      "text/plain": [
       "0.015176678481697991"
      ]
     },
     "execution_count": 604,
     "metadata": {},
     "output_type": "execute_result"
    }
   ],
   "source": [
    "# H₀: Attrition_Flag and Income_Category are independent, i.e. no relationship\n",
    "# H₁: Attrition_Flag and Income_Category are dependent, i.e. there may be a relationship\n",
    "# α = 0.05\n",
    "\n",
    "data_crosstab = pd.crosstab(df_droped['Attrition_Flag'],\n",
    "                            df_droped['Income_Category'])\n",
    "stat, p, dof, expected = chi2_contingency(data_crosstab)\n",
    "p"
   ]
  },
  {
   "cell_type": "code",
   "execution_count": 605,
   "metadata": {},
   "outputs": [],
   "source": [
    "## since pval < 0.05 we can reject the null and therefore **can not** say Attrition_Flag and educational_level are independant.\n",
    "## furthermore, we can not drop the column from the dataset."
   ]
  },
  {
   "attachments": {},
   "cell_type": "markdown",
   "metadata": {},
   "source": [
    "Conclusion : from chisquared tests: we can drop marital status and then drop rows with nan, leading to decreased loss of observations.  "
   ]
  },
  {
   "cell_type": "code",
   "execution_count": 606,
   "metadata": {},
   "outputs": [],
   "source": [
    "df_ = df.drop(columns = ['Marital_Status'])"
   ]
  },
  {
   "cell_type": "code",
   "execution_count": 607,
   "metadata": {},
   "outputs": [
    {
     "data": {
      "text/plain": [
       "Attrition_Flag                 0\n",
       "Customer_Age                   0\n",
       "Gender                         0\n",
       "Dependent_count                0\n",
       "Education_Level             1519\n",
       "Income_Category             1112\n",
       "Card_Category                  0\n",
       "Months_on_book                 0\n",
       "Total_Relationship_Count       0\n",
       "Months_Inactive_12_mon         0\n",
       "Contacts_Count_12_mon          0\n",
       "Credit_Limit                   0\n",
       "Total_Revolving_Bal            0\n",
       "Avg_Open_To_Buy                0\n",
       "Total_Amt_Chng_Q4_Q1           0\n",
       "Total_Trans_Amt                0\n",
       "Total_Trans_Ct                 0\n",
       "Total_Ct_Chng_Q4_Q1            0\n",
       "Avg_Utilization_Ratio          0\n",
       "dtype: int64"
      ]
     },
     "execution_count": 607,
     "metadata": {},
     "output_type": "execute_result"
    }
   ],
   "source": [
    "(df_.isna()).sum()"
   ]
  },
  {
   "cell_type": "code",
   "execution_count": 608,
   "metadata": {},
   "outputs": [
    {
     "data": {
      "text/plain": [
       "(7641, 19)"
      ]
     },
     "execution_count": 608,
     "metadata": {},
     "output_type": "execute_result"
    }
   ],
   "source": [
    "df_.dropna().shape"
   ]
  },
  {
   "attachments": {},
   "cell_type": "markdown",
   "metadata": {},
   "source": [
    "We can save 600 observations of data by letting go of marrital status as a feature, probably worth a shot!"
   ]
  },
  {
   "attachments": {},
   "cell_type": "markdown",
   "metadata": {},
   "source": [
    "### data rid of unknowns/nans and 'clientid', moving ahead in pre processing"
   ]
  },
  {
   "cell_type": "code",
   "execution_count": 609,
   "metadata": {},
   "outputs": [],
   "source": [
    "df = df_.dropna()"
   ]
  },
  {
   "cell_type": "code",
   "execution_count": 610,
   "metadata": {},
   "outputs": [
    {
     "data": {
      "text/plain": [
       "(7641, 19)"
      ]
     },
     "execution_count": 610,
     "metadata": {},
     "output_type": "execute_result"
    }
   ],
   "source": [
    "df.shape"
   ]
  },
  {
   "cell_type": "code",
   "execution_count": 611,
   "metadata": {},
   "outputs": [],
   "source": [
    "## we'll standardise as and when required: for logistic, KNN and perhaps nn.\n",
    "df_numerical_proc = df.loc[:,df.dtypes != object]\n",
    "numerical_columns = list(df_numerical_proc.columns)\n",
    "df_numerical_proc.shape\n",
    "\n",
    "X_numeric = np.matrix(df_numerical_proc)"
   ]
  },
  {
   "cell_type": "code",
   "execution_count": 612,
   "metadata": {},
   "outputs": [
    {
     "data": {
      "text/plain": [
       "(7641, 14)"
      ]
     },
     "execution_count": 612,
     "metadata": {},
     "output_type": "execute_result"
    }
   ],
   "source": [
    "X_numeric.shape"
   ]
  },
  {
   "cell_type": "code",
   "execution_count": 613,
   "metadata": {},
   "outputs": [
    {
     "data": {
      "text/html": [
       "<div>\n",
       "<style scoped>\n",
       "    .dataframe tbody tr th:only-of-type {\n",
       "        vertical-align: middle;\n",
       "    }\n",
       "\n",
       "    .dataframe tbody tr th {\n",
       "        vertical-align: top;\n",
       "    }\n",
       "\n",
       "    .dataframe thead th {\n",
       "        text-align: right;\n",
       "    }\n",
       "</style>\n",
       "<table border=\"1\" class=\"dataframe\">\n",
       "  <thead>\n",
       "    <tr style=\"text-align: right;\">\n",
       "      <th></th>\n",
       "      <th>Attrition_Flag</th>\n",
       "      <th>Gender</th>\n",
       "      <th>Education_Level</th>\n",
       "      <th>Income_Category</th>\n",
       "      <th>Card_Category</th>\n",
       "    </tr>\n",
       "    <tr>\n",
       "      <th>CLIENTNUM</th>\n",
       "      <th></th>\n",
       "      <th></th>\n",
       "      <th></th>\n",
       "      <th></th>\n",
       "      <th></th>\n",
       "    </tr>\n",
       "  </thead>\n",
       "  <tbody>\n",
       "    <tr>\n",
       "      <th>768805383</th>\n",
       "      <td>Existing Customer</td>\n",
       "      <td>M</td>\n",
       "      <td>High School</td>\n",
       "      <td>$60K - $80K</td>\n",
       "      <td>Blue</td>\n",
       "    </tr>\n",
       "    <tr>\n",
       "      <th>818770008</th>\n",
       "      <td>Existing Customer</td>\n",
       "      <td>F</td>\n",
       "      <td>Graduate</td>\n",
       "      <td>Less than $40K</td>\n",
       "      <td>Blue</td>\n",
       "    </tr>\n",
       "    <tr>\n",
       "      <th>713982108</th>\n",
       "      <td>Existing Customer</td>\n",
       "      <td>M</td>\n",
       "      <td>Graduate</td>\n",
       "      <td>$80K - $120K</td>\n",
       "      <td>Blue</td>\n",
       "    </tr>\n",
       "    <tr>\n",
       "      <th>769911858</th>\n",
       "      <td>Existing Customer</td>\n",
       "      <td>F</td>\n",
       "      <td>High School</td>\n",
       "      <td>Less than $40K</td>\n",
       "      <td>Blue</td>\n",
       "    </tr>\n",
       "    <tr>\n",
       "      <th>709106358</th>\n",
       "      <td>Existing Customer</td>\n",
       "      <td>M</td>\n",
       "      <td>Uneducated</td>\n",
       "      <td>$60K - $80K</td>\n",
       "      <td>Blue</td>\n",
       "    </tr>\n",
       "  </tbody>\n",
       "</table>\n",
       "</div>"
      ],
      "text/plain": [
       "              Attrition_Flag Gender Education_Level Income_Category  \\\n",
       "CLIENTNUM                                                             \n",
       "768805383  Existing Customer      M     High School     $60K - $80K   \n",
       "818770008  Existing Customer      F        Graduate  Less than $40K   \n",
       "713982108  Existing Customer      M        Graduate    $80K - $120K   \n",
       "769911858  Existing Customer      F     High School  Less than $40K   \n",
       "709106358  Existing Customer      M      Uneducated     $60K - $80K   \n",
       "\n",
       "          Card_Category  \n",
       "CLIENTNUM                \n",
       "768805383          Blue  \n",
       "818770008          Blue  \n",
       "713982108          Blue  \n",
       "769911858          Blue  \n",
       "709106358          Blue  "
      ]
     },
     "execution_count": 613,
     "metadata": {},
     "output_type": "execute_result"
    }
   ],
   "source": [
    "df_catagorical_proc = df.loc[:,(df.dtypes == object)]\n",
    "df_catagorical_proc.head()"
   ]
  },
  {
   "cell_type": "code",
   "execution_count": 614,
   "metadata": {},
   "outputs": [
    {
     "name": "stdout",
     "output_type": "stream",
     "text": [
      "Education:  ['High School' 'Graduate' 'Uneducated' 'College' 'Post-Graduate'\n",
      " 'Doctorate']\n",
      "Income:  ['$60K - $80K' 'Less than $40K' '$80K - $120K' '$40K - $60K' '$120K +']\n",
      "Education_Level:  ['High School' 'Graduate' 'Uneducated' 'College' 'Post-Graduate'\n",
      " 'Doctorate']\n"
     ]
    }
   ],
   "source": [
    "## encoding catagorical variables to numerical by ordinalencoding and onehotencoding: Attrition_Flag the predictor is left out.\n",
    "\n",
    "## we assume that income catagory, card catagory, Education_Level are ordinal\n",
    "\n",
    "\n",
    "ordinal_variable = ['Income_Category', 'Card_Category', 'Education_Level']\n",
    "\n",
    "print(\"Education: \",df.Education_Level.unique())\n",
    "print(\"Income: \",df.Income_Category.unique())\n",
    "print(\"Education_Level: \",df.Education_Level.unique())\n"
   ]
  },
  {
   "cell_type": "code",
   "execution_count": 615,
   "metadata": {},
   "outputs": [],
   "source": [
    "# define the right order (ascending)\n",
    "\n",
    "cate_Edu = ['Uneducated', 'High School', 'Graduate',  'College', 'Post-Graduate','Doctorate']\n",
    "cate_Inc = ['Less than $40K','$40K - $60K', '$60K - $80K', '$80K - $120K', '$120K +']\n",
    "cate_Crd = ['Blue','Silver','Gold','Platinum']"
   ]
  },
  {
   "cell_type": "code",
   "execution_count": 616,
   "metadata": {},
   "outputs": [
    {
     "name": "stdout",
     "output_type": "stream",
     "text": [
      "(7641, 3)\n",
      "(7641, 3)\n"
     ]
    }
   ],
   "source": [
    "# ordinal encode input variables\n",
    "from sklearn.preprocessing import OrdinalEncoder\n",
    "\n",
    "ordinal_encoder = OrdinalEncoder(categories=[cate_Inc,cate_Crd, cate_Edu])\n",
    "ordinal_encoder.fit(df[ordinal_variable])\n",
    "X_ordinal = ordinal_encoder.transform(df[ordinal_variable])\n",
    "print(df[ordinal_variable].shape) \n",
    "print(X_ordinal.shape) ## X_ordinal = matrix!"
   ]
  },
  {
   "cell_type": "code",
   "execution_count": 617,
   "metadata": {},
   "outputs": [
    {
     "data": {
      "text/plain": [
       "[array(['Less than $40K', '$40K - $60K', '$60K - $80K', '$80K - $120K',\n",
       "        '$120K +'], dtype=object),\n",
       " array(['Blue', 'Silver', 'Gold', 'Platinum'], dtype=object),\n",
       " array(['Uneducated', 'High School', 'Graduate', 'College',\n",
       "        'Post-Graduate', 'Doctorate'], dtype=object)]"
      ]
     },
     "execution_count": 617,
     "metadata": {},
     "output_type": "execute_result"
    }
   ],
   "source": [
    "ordinal_encoder.categories_"
   ]
  },
  {
   "cell_type": "code",
   "execution_count": 618,
   "metadata": {},
   "outputs": [
    {
     "data": {
      "text/html": [
       "<div>\n",
       "<style scoped>\n",
       "    .dataframe tbody tr th:only-of-type {\n",
       "        vertical-align: middle;\n",
       "    }\n",
       "\n",
       "    .dataframe tbody tr th {\n",
       "        vertical-align: top;\n",
       "    }\n",
       "\n",
       "    .dataframe thead th {\n",
       "        text-align: right;\n",
       "    }\n",
       "</style>\n",
       "<table border=\"1\" class=\"dataframe\">\n",
       "  <thead>\n",
       "    <tr style=\"text-align: right;\">\n",
       "      <th></th>\n",
       "      <th>Income_Category</th>\n",
       "      <th>Card_Category</th>\n",
       "      <th>Education_Level</th>\n",
       "    </tr>\n",
       "  </thead>\n",
       "  <tbody>\n",
       "    <tr>\n",
       "      <th>0</th>\n",
       "      <td>2.0</td>\n",
       "      <td>0.0</td>\n",
       "      <td>1.0</td>\n",
       "    </tr>\n",
       "    <tr>\n",
       "      <th>1</th>\n",
       "      <td>0.0</td>\n",
       "      <td>0.0</td>\n",
       "      <td>2.0</td>\n",
       "    </tr>\n",
       "    <tr>\n",
       "      <th>2</th>\n",
       "      <td>3.0</td>\n",
       "      <td>0.0</td>\n",
       "      <td>2.0</td>\n",
       "    </tr>\n",
       "    <tr>\n",
       "      <th>3</th>\n",
       "      <td>0.0</td>\n",
       "      <td>0.0</td>\n",
       "      <td>1.0</td>\n",
       "    </tr>\n",
       "    <tr>\n",
       "      <th>4</th>\n",
       "      <td>2.0</td>\n",
       "      <td>0.0</td>\n",
       "      <td>0.0</td>\n",
       "    </tr>\n",
       "  </tbody>\n",
       "</table>\n",
       "</div>"
      ],
      "text/plain": [
       "   Income_Category  Card_Category  Education_Level\n",
       "0              2.0            0.0              1.0\n",
       "1              0.0            0.0              2.0\n",
       "2              3.0            0.0              2.0\n",
       "3              0.0            0.0              1.0\n",
       "4              2.0            0.0              0.0"
      ]
     },
     "execution_count": 618,
     "metadata": {},
     "output_type": "execute_result"
    }
   ],
   "source": [
    "pd.DataFrame(X_ordinal, columns=ordinal_variable).head() "
   ]
  },
  {
   "cell_type": "code",
   "execution_count": 619,
   "metadata": {},
   "outputs": [
    {
     "name": "stdout",
     "output_type": "stream",
     "text": [
      "(7641, 1)\n",
      "(7641, 2)\n"
     ]
    }
   ],
   "source": [
    "nominal_variables = ['Gender']\n",
    "\n",
    "onehot_encoder = OneHotEncoder(sparse=False)\n",
    "onehot_encoder.fit(df[nominal_variables])\n",
    "X_onehot = onehot_encoder.transform(df[nominal_variables])\n",
    "print(df[nominal_variables].shape)\n",
    "print(X_onehot.shape) \n",
    "# X_onehot is a matrix!!"
   ]
  },
  {
   "cell_type": "code",
   "execution_count": 620,
   "metadata": {},
   "outputs": [
    {
     "name": "stdout",
     "output_type": "stream",
     "text": [
      "['F', 'M']\n"
     ]
    }
   ],
   "source": [
    "# flat the list to create one list with all elements\n",
    "list_onehot_cate = [item for sublist in onehot_encoder.categories_ for item in sublist]\n",
    "print(list_onehot_cate)"
   ]
  },
  {
   "cell_type": "code",
   "execution_count": 621,
   "metadata": {},
   "outputs": [
    {
     "data": {
      "text/html": [
       "<div>\n",
       "<style scoped>\n",
       "    .dataframe tbody tr th:only-of-type {\n",
       "        vertical-align: middle;\n",
       "    }\n",
       "\n",
       "    .dataframe tbody tr th {\n",
       "        vertical-align: top;\n",
       "    }\n",
       "\n",
       "    .dataframe thead th {\n",
       "        text-align: right;\n",
       "    }\n",
       "</style>\n",
       "<table border=\"1\" class=\"dataframe\">\n",
       "  <thead>\n",
       "    <tr style=\"text-align: right;\">\n",
       "      <th></th>\n",
       "      <th>F</th>\n",
       "      <th>M</th>\n",
       "    </tr>\n",
       "  </thead>\n",
       "  <tbody>\n",
       "    <tr>\n",
       "      <th>0</th>\n",
       "      <td>0.0</td>\n",
       "      <td>1.0</td>\n",
       "    </tr>\n",
       "    <tr>\n",
       "      <th>1</th>\n",
       "      <td>1.0</td>\n",
       "      <td>0.0</td>\n",
       "    </tr>\n",
       "    <tr>\n",
       "      <th>2</th>\n",
       "      <td>0.0</td>\n",
       "      <td>1.0</td>\n",
       "    </tr>\n",
       "    <tr>\n",
       "      <th>3</th>\n",
       "      <td>1.0</td>\n",
       "      <td>0.0</td>\n",
       "    </tr>\n",
       "    <tr>\n",
       "      <th>4</th>\n",
       "      <td>0.0</td>\n",
       "      <td>1.0</td>\n",
       "    </tr>\n",
       "  </tbody>\n",
       "</table>\n",
       "</div>"
      ],
      "text/plain": [
       "     F    M\n",
       "0  0.0  1.0\n",
       "1  1.0  0.0\n",
       "2  0.0  1.0\n",
       "3  1.0  0.0\n",
       "4  0.0  1.0"
      ]
     },
     "execution_count": 621,
     "metadata": {},
     "output_type": "execute_result"
    }
   ],
   "source": [
    "pd.DataFrame(X_onehot, columns = list_onehot_cate).head() ## just to see how it looks."
   ]
  },
  {
   "cell_type": "code",
   "execution_count": 622,
   "metadata": {},
   "outputs": [
    {
     "name": "stdout",
     "output_type": "stream",
     "text": [
      "(7641, 5)\n"
     ]
    }
   ],
   "source": [
    "# creating catagorical X \n",
    "\n",
    "X = np.concatenate([X_ordinal,X_onehot], axis = 1)\n",
    "print(X.shape)"
   ]
  },
  {
   "cell_type": "code",
   "execution_count": 623,
   "metadata": {},
   "outputs": [
    {
     "data": {
      "text/plain": [
       "(7641, 14)"
      ]
     },
     "execution_count": 623,
     "metadata": {},
     "output_type": "execute_result"
    }
   ],
   "source": [
    "X_numeric.shape"
   ]
  },
  {
   "cell_type": "code",
   "execution_count": 624,
   "metadata": {},
   "outputs": [
    {
     "name": "stdout",
     "output_type": "stream",
     "text": [
      "(7641, 19)\n",
      "Columns =  19\n"
     ]
    }
   ],
   "source": [
    "X = np.concatenate([X, X_numeric], axis = 1)\n",
    "features = ordinal_variable + list_onehot_cate + numerical_columns ## the order of conact is maintained\n",
    "print(X.shape)\n",
    "print('Columns = ', len(features))\n",
    "\n",
    "## final feature matrix is X : without normalization!!"
   ]
  },
  {
   "attachments": {},
   "cell_type": "markdown",
   "metadata": {},
   "source": [
    "## feature matrix without standardization complete, working on predictor vcariable"
   ]
  },
  {
   "cell_type": "code",
   "execution_count": 625,
   "metadata": {},
   "outputs": [],
   "source": [
    "## converting Attrition_Flag to binary\n",
    "y = df['Attrition_Flag'].apply(lambda x: 1 if x == 'Attrited Customer' else 0).values"
   ]
  },
  {
   "cell_type": "code",
   "execution_count": 626,
   "metadata": {},
   "outputs": [
    {
     "data": {
      "text/html": [
       "<div>\n",
       "<style scoped>\n",
       "    .dataframe tbody tr th:only-of-type {\n",
       "        vertical-align: middle;\n",
       "    }\n",
       "\n",
       "    .dataframe tbody tr th {\n",
       "        vertical-align: top;\n",
       "    }\n",
       "\n",
       "    .dataframe thead th {\n",
       "        text-align: right;\n",
       "    }\n",
       "</style>\n",
       "<table border=\"1\" class=\"dataframe\">\n",
       "  <thead>\n",
       "    <tr style=\"text-align: right;\">\n",
       "      <th></th>\n",
       "      <th>Attrition_Flag</th>\n",
       "      <th>Income_Category</th>\n",
       "      <th>Card_Category</th>\n",
       "      <th>Education_Level</th>\n",
       "      <th>F</th>\n",
       "      <th>M</th>\n",
       "      <th>Customer_Age</th>\n",
       "      <th>Dependent_count</th>\n",
       "      <th>Months_on_book</th>\n",
       "      <th>Total_Relationship_Count</th>\n",
       "      <th>Months_Inactive_12_mon</th>\n",
       "      <th>Contacts_Count_12_mon</th>\n",
       "      <th>Credit_Limit</th>\n",
       "      <th>Total_Revolving_Bal</th>\n",
       "      <th>Avg_Open_To_Buy</th>\n",
       "      <th>Total_Amt_Chng_Q4_Q1</th>\n",
       "      <th>Total_Trans_Amt</th>\n",
       "      <th>Total_Trans_Ct</th>\n",
       "      <th>Total_Ct_Chng_Q4_Q1</th>\n",
       "      <th>Avg_Utilization_Ratio</th>\n",
       "    </tr>\n",
       "    <tr>\n",
       "      <th>CLIENTNUM</th>\n",
       "      <th></th>\n",
       "      <th></th>\n",
       "      <th></th>\n",
       "      <th></th>\n",
       "      <th></th>\n",
       "      <th></th>\n",
       "      <th></th>\n",
       "      <th></th>\n",
       "      <th></th>\n",
       "      <th></th>\n",
       "      <th></th>\n",
       "      <th></th>\n",
       "      <th></th>\n",
       "      <th></th>\n",
       "      <th></th>\n",
       "      <th></th>\n",
       "      <th></th>\n",
       "      <th></th>\n",
       "      <th></th>\n",
       "      <th></th>\n",
       "    </tr>\n",
       "  </thead>\n",
       "  <tbody>\n",
       "    <tr>\n",
       "      <th>768805383</th>\n",
       "      <td>0</td>\n",
       "      <td>2.0</td>\n",
       "      <td>0.0</td>\n",
       "      <td>1.0</td>\n",
       "      <td>0.0</td>\n",
       "      <td>1.0</td>\n",
       "      <td>45.0</td>\n",
       "      <td>3.0</td>\n",
       "      <td>39.0</td>\n",
       "      <td>5.0</td>\n",
       "      <td>1.0</td>\n",
       "      <td>3.0</td>\n",
       "      <td>12691.0</td>\n",
       "      <td>777.0</td>\n",
       "      <td>11914.0</td>\n",
       "      <td>1.335</td>\n",
       "      <td>1144.0</td>\n",
       "      <td>42.0</td>\n",
       "      <td>1.625</td>\n",
       "      <td>0.061</td>\n",
       "    </tr>\n",
       "    <tr>\n",
       "      <th>818770008</th>\n",
       "      <td>0</td>\n",
       "      <td>0.0</td>\n",
       "      <td>0.0</td>\n",
       "      <td>2.0</td>\n",
       "      <td>1.0</td>\n",
       "      <td>0.0</td>\n",
       "      <td>49.0</td>\n",
       "      <td>5.0</td>\n",
       "      <td>44.0</td>\n",
       "      <td>6.0</td>\n",
       "      <td>1.0</td>\n",
       "      <td>2.0</td>\n",
       "      <td>8256.0</td>\n",
       "      <td>864.0</td>\n",
       "      <td>7392.0</td>\n",
       "      <td>1.541</td>\n",
       "      <td>1291.0</td>\n",
       "      <td>33.0</td>\n",
       "      <td>3.714</td>\n",
       "      <td>0.105</td>\n",
       "    </tr>\n",
       "    <tr>\n",
       "      <th>713982108</th>\n",
       "      <td>0</td>\n",
       "      <td>3.0</td>\n",
       "      <td>0.0</td>\n",
       "      <td>2.0</td>\n",
       "      <td>0.0</td>\n",
       "      <td>1.0</td>\n",
       "      <td>51.0</td>\n",
       "      <td>3.0</td>\n",
       "      <td>36.0</td>\n",
       "      <td>4.0</td>\n",
       "      <td>1.0</td>\n",
       "      <td>0.0</td>\n",
       "      <td>3418.0</td>\n",
       "      <td>0.0</td>\n",
       "      <td>3418.0</td>\n",
       "      <td>2.594</td>\n",
       "      <td>1887.0</td>\n",
       "      <td>20.0</td>\n",
       "      <td>2.333</td>\n",
       "      <td>0.000</td>\n",
       "    </tr>\n",
       "    <tr>\n",
       "      <th>769911858</th>\n",
       "      <td>0</td>\n",
       "      <td>0.0</td>\n",
       "      <td>0.0</td>\n",
       "      <td>1.0</td>\n",
       "      <td>1.0</td>\n",
       "      <td>0.0</td>\n",
       "      <td>40.0</td>\n",
       "      <td>4.0</td>\n",
       "      <td>34.0</td>\n",
       "      <td>3.0</td>\n",
       "      <td>4.0</td>\n",
       "      <td>1.0</td>\n",
       "      <td>3313.0</td>\n",
       "      <td>2517.0</td>\n",
       "      <td>796.0</td>\n",
       "      <td>1.405</td>\n",
       "      <td>1171.0</td>\n",
       "      <td>20.0</td>\n",
       "      <td>2.333</td>\n",
       "      <td>0.760</td>\n",
       "    </tr>\n",
       "    <tr>\n",
       "      <th>709106358</th>\n",
       "      <td>0</td>\n",
       "      <td>2.0</td>\n",
       "      <td>0.0</td>\n",
       "      <td>0.0</td>\n",
       "      <td>0.0</td>\n",
       "      <td>1.0</td>\n",
       "      <td>40.0</td>\n",
       "      <td>3.0</td>\n",
       "      <td>21.0</td>\n",
       "      <td>5.0</td>\n",
       "      <td>1.0</td>\n",
       "      <td>0.0</td>\n",
       "      <td>4716.0</td>\n",
       "      <td>0.0</td>\n",
       "      <td>4716.0</td>\n",
       "      <td>2.175</td>\n",
       "      <td>816.0</td>\n",
       "      <td>28.0</td>\n",
       "      <td>2.500</td>\n",
       "      <td>0.000</td>\n",
       "    </tr>\n",
       "  </tbody>\n",
       "</table>\n",
       "</div>"
      ],
      "text/plain": [
       "           Attrition_Flag  Income_Category  Card_Category  Education_Level  \\\n",
       "CLIENTNUM                                                                    \n",
       "768805383               0              2.0            0.0              1.0   \n",
       "818770008               0              0.0            0.0              2.0   \n",
       "713982108               0              3.0            0.0              2.0   \n",
       "769911858               0              0.0            0.0              1.0   \n",
       "709106358               0              2.0            0.0              0.0   \n",
       "\n",
       "             F    M  Customer_Age  Dependent_count  Months_on_book  \\\n",
       "CLIENTNUM                                                            \n",
       "768805383  0.0  1.0          45.0              3.0            39.0   \n",
       "818770008  1.0  0.0          49.0              5.0            44.0   \n",
       "713982108  0.0  1.0          51.0              3.0            36.0   \n",
       "769911858  1.0  0.0          40.0              4.0            34.0   \n",
       "709106358  0.0  1.0          40.0              3.0            21.0   \n",
       "\n",
       "           Total_Relationship_Count  Months_Inactive_12_mon  \\\n",
       "CLIENTNUM                                                     \n",
       "768805383                       5.0                     1.0   \n",
       "818770008                       6.0                     1.0   \n",
       "713982108                       4.0                     1.0   \n",
       "769911858                       3.0                     4.0   \n",
       "709106358                       5.0                     1.0   \n",
       "\n",
       "           Contacts_Count_12_mon  Credit_Limit  Total_Revolving_Bal  \\\n",
       "CLIENTNUM                                                             \n",
       "768805383                    3.0       12691.0                777.0   \n",
       "818770008                    2.0        8256.0                864.0   \n",
       "713982108                    0.0        3418.0                  0.0   \n",
       "769911858                    1.0        3313.0               2517.0   \n",
       "709106358                    0.0        4716.0                  0.0   \n",
       "\n",
       "           Avg_Open_To_Buy  Total_Amt_Chng_Q4_Q1  Total_Trans_Amt  \\\n",
       "CLIENTNUM                                                           \n",
       "768805383          11914.0                 1.335           1144.0   \n",
       "818770008           7392.0                 1.541           1291.0   \n",
       "713982108           3418.0                 2.594           1887.0   \n",
       "769911858            796.0                 1.405           1171.0   \n",
       "709106358           4716.0                 2.175            816.0   \n",
       "\n",
       "           Total_Trans_Ct  Total_Ct_Chng_Q4_Q1  Avg_Utilization_Ratio  \n",
       "CLIENTNUM                                                              \n",
       "768805383            42.0                1.625                  0.061  \n",
       "818770008            33.0                3.714                  0.105  \n",
       "713982108            20.0                2.333                  0.000  \n",
       "769911858            20.0                2.333                  0.760  \n",
       "709106358            28.0                2.500                  0.000  "
      ]
     },
     "execution_count": 626,
     "metadata": {},
     "output_type": "execute_result"
    }
   ],
   "source": [
    "df_processed = pd.DataFrame()\n",
    "df_processed['Attrition_Flag'] = y\n",
    "df_processed[features] = X\n",
    "df_processed.index = df.index\n",
    "df_processed.head()"
   ]
  },
  {
   "attachments": {},
   "cell_type": "markdown",
   "metadata": {},
   "source": [
    "# Train-val-Test split: 60%-25%-15%"
   ]
  },
  {
   "cell_type": "code",
   "execution_count": 627,
   "metadata": {},
   "outputs": [],
   "source": [
    "# saving index information for later use\n",
    "client_ids = df_processed.index"
   ]
  },
  {
   "cell_type": "code",
   "execution_count": 628,
   "metadata": {},
   "outputs": [],
   "source": [
    "# get full training and test sample\n",
    "X_full_train, X_test, y_full_train, y_test, ID_full_train, ID_test = train_test_split(X, y, client_ids, test_size=0.15, random_state=2022)\n",
    "\n",
    "## creating val dataset\n",
    "\n",
    "X_train, X_val, y_train, y_val, ID_train, ID_val = train_test_split(X_full_train, y_full_train, ID_full_train, test_size=0.25, random_state=2022)\n"
   ]
  },
  {
   "cell_type": "code",
   "execution_count": 629,
   "metadata": {},
   "outputs": [
    {
     "name": "stdout",
     "output_type": "stream",
     "text": [
      "Train:  (4870, 19) (4870,) (4870,)\n",
      "val:  (1624, 19) (1624,) (1624,)\n",
      "Test:  (1147, 19) (1147,) (1147,)\n"
     ]
    }
   ],
   "source": [
    "print(\"Train: \", X_train.shape,y_train.shape,ID_train.shape)\n",
    "print(\"val: \", X_val.shape,y_val.shape,ID_val.shape)\n",
    "print(\"Test: \", X_test.shape,y_test.shape,ID_test.shape)"
   ]
  },
  {
   "attachments": {},
   "cell_type": "markdown",
   "metadata": {},
   "source": [
    "## Standardizing **continous** variables for all datasets **seperately** to avoid any leakage. "
   ]
  },
  {
   "cell_type": "code",
   "execution_count": 630,
   "metadata": {},
   "outputs": [],
   "source": [
    "# standardize the continuous-valued inputs: the last 14 cols\n",
    "## (x - mean(x))/std(x)\n",
    "\n",
    "\n",
    "scaler = StandardScaler().fit(X_full_train[:,-14:])\n",
    "\n",
    "X_full_train[:,-14:] = scaler.transform(X_full_train[:,-14:])\n",
    "X_train[:,-14:] = scaler.transform(X_train[:,-14:])\n",
    "X_val[:,-14:] = scaler.transform(X_val[:,-14:])\n",
    "X_test[:,-14:] = scaler.transform(X_test[:,-14:])"
   ]
  },
  {
   "cell_type": "code",
   "execution_count": 631,
   "metadata": {},
   "outputs": [
    {
     "data": {
      "text/plain": [
       "matrix([[ 3.        ,  0.        ,  3.        ,  0.        ,  1.        ,\n",
       "         -0.67323456,  0.50244409, -1.00253408, -1.82099134, -1.34098759,\n",
       "          0.49612652,  2.85607974,  0.55955811,  2.80328203, -0.59803939,\n",
       "          2.50402116,  1.19064182,  0.04954236, -0.84136793]])"
      ]
     },
     "execution_count": 631,
     "metadata": {},
     "output_type": "execute_result"
    }
   ],
   "source": [
    "X_full_train[0]"
   ]
  },
  {
   "cell_type": "code",
   "execution_count": 632,
   "metadata": {},
   "outputs": [
    {
     "data": {
      "text/html": [
       "<div>\n",
       "<style scoped>\n",
       "    .dataframe tbody tr th:only-of-type {\n",
       "        vertical-align: middle;\n",
       "    }\n",
       "\n",
       "    .dataframe tbody tr th {\n",
       "        vertical-align: top;\n",
       "    }\n",
       "\n",
       "    .dataframe thead th {\n",
       "        text-align: right;\n",
       "    }\n",
       "</style>\n",
       "<table border=\"1\" class=\"dataframe\">\n",
       "  <thead>\n",
       "    <tr style=\"text-align: right;\">\n",
       "      <th></th>\n",
       "      <th>0</th>\n",
       "      <th>1</th>\n",
       "      <th>2</th>\n",
       "      <th>3</th>\n",
       "      <th>4</th>\n",
       "      <th>5</th>\n",
       "      <th>6</th>\n",
       "      <th>7</th>\n",
       "      <th>8</th>\n",
       "      <th>9</th>\n",
       "      <th>10</th>\n",
       "      <th>11</th>\n",
       "      <th>12</th>\n",
       "      <th>13</th>\n",
       "    </tr>\n",
       "  </thead>\n",
       "  <tbody>\n",
       "    <tr>\n",
       "      <th>count</th>\n",
       "      <td>6.494000e+03</td>\n",
       "      <td>6.494000e+03</td>\n",
       "      <td>6.494000e+03</td>\n",
       "      <td>6.494000e+03</td>\n",
       "      <td>6.494000e+03</td>\n",
       "      <td>6.494000e+03</td>\n",
       "      <td>6.494000e+03</td>\n",
       "      <td>6.494000e+03</td>\n",
       "      <td>6.494000e+03</td>\n",
       "      <td>6.494000e+03</td>\n",
       "      <td>6.494000e+03</td>\n",
       "      <td>6.494000e+03</td>\n",
       "      <td>6.494000e+03</td>\n",
       "      <td>6.494000e+03</td>\n",
       "    </tr>\n",
       "    <tr>\n",
       "      <th>mean</th>\n",
       "      <td>1.348543e-16</td>\n",
       "      <td>-8.972052e-17</td>\n",
       "      <td>2.699822e-16</td>\n",
       "      <td>-8.315560e-17</td>\n",
       "      <td>-1.061328e-16</td>\n",
       "      <td>1.110565e-16</td>\n",
       "      <td>5.567049e-15</td>\n",
       "      <td>1.053122e-16</td>\n",
       "      <td>3.367802e-15</td>\n",
       "      <td>-1.995269e-14</td>\n",
       "      <td>-7.221408e-17</td>\n",
       "      <td>-1.969475e-17</td>\n",
       "      <td>3.135842e-15</td>\n",
       "      <td>5.470763e-17</td>\n",
       "    </tr>\n",
       "    <tr>\n",
       "      <th>std</th>\n",
       "      <td>1.000077e+00</td>\n",
       "      <td>1.000077e+00</td>\n",
       "      <td>1.000077e+00</td>\n",
       "      <td>1.000077e+00</td>\n",
       "      <td>1.000077e+00</td>\n",
       "      <td>1.000077e+00</td>\n",
       "      <td>1.000077e+00</td>\n",
       "      <td>1.000077e+00</td>\n",
       "      <td>1.000077e+00</td>\n",
       "      <td>1.000077e+00</td>\n",
       "      <td>1.000077e+00</td>\n",
       "      <td>1.000077e+00</td>\n",
       "      <td>1.000077e+00</td>\n",
       "      <td>1.000077e+00</td>\n",
       "    </tr>\n",
       "    <tr>\n",
       "      <th>min</th>\n",
       "      <td>-2.563360e+00</td>\n",
       "      <td>-1.822091e+00</td>\n",
       "      <td>-2.885185e+00</td>\n",
       "      <td>-1.820991e+00</td>\n",
       "      <td>-2.336799e+00</td>\n",
       "      <td>-2.239661e+00</td>\n",
       "      <td>-7.762671e-01</td>\n",
       "      <td>-1.433474e+00</td>\n",
       "      <td>-8.053215e-01</td>\n",
       "      <td>-3.413656e+00</td>\n",
       "      <td>-1.128286e+00</td>\n",
       "      <td>-2.299546e+00</td>\n",
       "      <td>-3.008443e+00</td>\n",
       "      <td>-1.010875e+00</td>\n",
       "    </tr>\n",
       "    <tr>\n",
       "      <th>25%</th>\n",
       "      <td>-6.732346e-01</td>\n",
       "      <td>-1.047246e+00</td>\n",
       "      <td>-6.260040e-01</td>\n",
       "      <td>-5.309114e-01</td>\n",
       "      <td>-3.451759e-01</td>\n",
       "      <td>-4.158026e-01</td>\n",
       "      <td>-6.589928e-01</td>\n",
       "      <td>-9.077916e-01</td>\n",
       "      <td>-6.666366e-01</td>\n",
       "      <td>-5.800194e-01</td>\n",
       "      <td>-6.676393e-01</td>\n",
       "      <td>-8.698306e-01</td>\n",
       "      <td>-5.561252e-01</td>\n",
       "      <td>-9.243181e-01</td>\n",
       "    </tr>\n",
       "    <tr>\n",
       "      <th>50%</th>\n",
       "      <td>-4.319288e-02</td>\n",
       "      <td>-2.724008e-01</td>\n",
       "      <td>1.546166e-03</td>\n",
       "      <td>1.141286e-01</td>\n",
       "      <td>-3.451759e-01</td>\n",
       "      <td>-4.158026e-01</td>\n",
       "      <td>-4.589418e-01</td>\n",
       "      <td>1.466542e-01</td>\n",
       "      <td>-4.461176e-01</td>\n",
       "      <td>-1.024909e-01</td>\n",
       "      <td>-1.612021e-01</td>\n",
       "      <td>9.732991e-02</td>\n",
       "      <td>-4.363727e-02</td>\n",
       "      <td>-3.436667e-01</td>\n",
       "    </tr>\n",
       "    <tr>\n",
       "      <th>75%</th>\n",
       "      <td>7.128571e-01</td>\n",
       "      <td>5.024441e-01</td>\n",
       "      <td>5.977188e-01</td>\n",
       "      <td>7.591685e-01</td>\n",
       "      <td>6.506358e-01</td>\n",
       "      <td>4.961265e-01</td>\n",
       "      <td>2.458901e-01</td>\n",
       "      <td>7.543009e-01</td>\n",
       "      <td>2.403409e-01</td>\n",
       "      <td>4.426125e-01</td>\n",
       "      <td>9.721666e-02</td>\n",
       "      <td>6.860363e-01</td>\n",
       "      <td>4.476735e-01</td>\n",
       "      <td>8.392753e-01</td>\n",
       "    </tr>\n",
       "    <tr>\n",
       "      <th>max</th>\n",
       "      <td>3.359032e+00</td>\n",
       "      <td>2.052134e+00</td>\n",
       "      <td>2.511747e+00</td>\n",
       "      <td>1.404209e+00</td>\n",
       "      <td>3.638071e+00</td>\n",
       "      <td>3.231914e+00</td>\n",
       "      <td>2.856080e+00</td>\n",
       "      <td>1.668852e+00</td>\n",
       "      <td>2.980663e+00</td>\n",
       "      <td>1.188978e+01</td>\n",
       "      <td>3.923085e+00</td>\n",
       "      <td>2.914711e+00</td>\n",
       "      <td>1.272197e+01</td>\n",
       "      <td>2.592049e+00</td>\n",
       "    </tr>\n",
       "  </tbody>\n",
       "</table>\n",
       "</div>"
      ],
      "text/plain": [
       "                 0             1             2             3             4   \\\n",
       "count  6.494000e+03  6.494000e+03  6.494000e+03  6.494000e+03  6.494000e+03   \n",
       "mean   1.348543e-16 -8.972052e-17  2.699822e-16 -8.315560e-17 -1.061328e-16   \n",
       "std    1.000077e+00  1.000077e+00  1.000077e+00  1.000077e+00  1.000077e+00   \n",
       "min   -2.563360e+00 -1.822091e+00 -2.885185e+00 -1.820991e+00 -2.336799e+00   \n",
       "25%   -6.732346e-01 -1.047246e+00 -6.260040e-01 -5.309114e-01 -3.451759e-01   \n",
       "50%   -4.319288e-02 -2.724008e-01  1.546166e-03  1.141286e-01 -3.451759e-01   \n",
       "75%    7.128571e-01  5.024441e-01  5.977188e-01  7.591685e-01  6.506358e-01   \n",
       "max    3.359032e+00  2.052134e+00  2.511747e+00  1.404209e+00  3.638071e+00   \n",
       "\n",
       "                 5             6             7             8             9   \\\n",
       "count  6.494000e+03  6.494000e+03  6.494000e+03  6.494000e+03  6.494000e+03   \n",
       "mean   1.110565e-16  5.567049e-15  1.053122e-16  3.367802e-15 -1.995269e-14   \n",
       "std    1.000077e+00  1.000077e+00  1.000077e+00  1.000077e+00  1.000077e+00   \n",
       "min   -2.239661e+00 -7.762671e-01 -1.433474e+00 -8.053215e-01 -3.413656e+00   \n",
       "25%   -4.158026e-01 -6.589928e-01 -9.077916e-01 -6.666366e-01 -5.800194e-01   \n",
       "50%   -4.158026e-01 -4.589418e-01  1.466542e-01 -4.461176e-01 -1.024909e-01   \n",
       "75%    4.961265e-01  2.458901e-01  7.543009e-01  2.403409e-01  4.426125e-01   \n",
       "max    3.231914e+00  2.856080e+00  1.668852e+00  2.980663e+00  1.188978e+01   \n",
       "\n",
       "                 10            11            12            13  \n",
       "count  6.494000e+03  6.494000e+03  6.494000e+03  6.494000e+03  \n",
       "mean  -7.221408e-17 -1.969475e-17  3.135842e-15  5.470763e-17  \n",
       "std    1.000077e+00  1.000077e+00  1.000077e+00  1.000077e+00  \n",
       "min   -1.128286e+00 -2.299546e+00 -3.008443e+00 -1.010875e+00  \n",
       "25%   -6.676393e-01 -8.698306e-01 -5.561252e-01 -9.243181e-01  \n",
       "50%   -1.612021e-01  9.732991e-02 -4.363727e-02 -3.436667e-01  \n",
       "75%    9.721666e-02  6.860363e-01  4.476735e-01  8.392753e-01  \n",
       "max    3.923085e+00  2.914711e+00  1.272197e+01  2.592049e+00  "
      ]
     },
     "execution_count": 632,
     "metadata": {},
     "output_type": "execute_result"
    }
   ],
   "source": [
    "pd.DataFrame(X_full_train[:,-14:]).describe() ## just to have a look at the standardized data"
   ]
  },
  {
   "attachments": {},
   "cell_type": "markdown",
   "metadata": {},
   "source": [
    "# Building and training models"
   ]
  },
  {
   "attachments": {},
   "cell_type": "markdown",
   "metadata": {},
   "source": [
    "## logistic regression "
   ]
  },
  {
   "cell_type": "code",
   "execution_count": 633,
   "metadata": {},
   "outputs": [
    {
     "name": "stdout",
     "output_type": "stream",
     "text": [
      "Accuracy: 91.02\n",
      "[[940  32]\n",
      " [ 71 104]]\n"
     ]
    }
   ],
   "source": [
    "logistic = LogisticRegression(penalty='none')\n",
    "# fit on the entire training set since no need for validation \n",
    "logistic.fit(X_full_train, y_full_train)\n",
    "# predict on test set\n",
    "yhat_logistic = logistic.predict(X_test)\n",
    "# evaluate predictions\n",
    "accuracy = accuracy_score(y_test, yhat_logistic)\n",
    "print('Accuracy: %.2f' % (accuracy*100))\n",
    "print(confusion_matrix(y_true= y_test, y_pred = yhat_logistic))"
   ]
  },
  {
   "cell_type": "code",
   "execution_count": 634,
   "metadata": {},
   "outputs": [
    {
     "data": {
      "image/png": "[encoded data removed]",
      "text/plain": [
       "<Figure size 432x288 with 1 Axes>"
      ]
     },
     "metadata": {
      "needs_background": "light"
     },
     "output_type": "display_data"
    }
   ],
   "source": [
    "\n",
    "fpr, tpr, thresholds = metrics.roc_curve(y_test, yhat_logistic)\n",
    "\n",
    "roc_auc = metrics.auc(fpr, tpr)\n",
    "display = metrics.RocCurveDisplay(fpr=fpr, tpr=tpr, roc_auc=roc_auc, estimator_name ='Vanila logistic')\n",
    "display.plot()\n",
    "plt.plot([0, 1], [0, 1], \"k--\", label=\"chance level (AUC = 0.5)\")\n",
    "plt.legend()\n",
    "plt.show()"
   ]
  },
  {
   "attachments": {},
   "cell_type": "markdown",
   "metadata": {},
   "source": [
    "### logistic regression elastic with standard validation (val set)\n",
    "\n",
    "Note(sklearn website): The ‘newton-cg’, ‘sag’, and ‘lbfgs’ solvers support only L2 regularization with primal formulation, or no regularization. The ‘liblinear’ solver supports both L1 and L2 regularization, with a dual formulation only for the L2 penalty. The Elastic-Net regularization is only supported by the ‘saga’ solver.\n"
   ]
  },
  {
   "cell_type": "code",
   "execution_count": 635,
   "metadata": {},
   "outputs": [
    {
     "name": "stdout",
     "output_type": "stream",
     "text": [
      "[0.         0.02941176 0.05882353 0.08823529 0.11764706 0.14705882\n",
      " 0.17647059 0.20588235 0.23529412 0.26470588 0.29411765 0.32352941\n",
      " 0.35294118 0.38235294 0.41176471 0.44117647 0.47058824 0.5\n",
      " 0.52941176 0.55882353 0.58823529 0.61764706 0.64705882 0.67647059\n",
      " 0.70588235 0.73529412 0.76470588 0.79411765 0.82352941 0.85294118\n",
      " 0.88235294 0.91176471 0.94117647 0.97058824 1.        ]\n"
     ]
    }
   ],
   "source": [
    "list_l1_ratio = np.linspace(0,1,35) \n",
    "## creating a list of alpha values to try out in the val set , 35 evenly spaced numbers between 0 and 1\n",
    "print(list_l1_ratio)"
   ]
  },
  {
   "cell_type": "code",
   "execution_count": 636,
   "metadata": {},
   "outputs": [],
   "source": [
    "## individually fitting a model and calculating 'accuracy' on the validation set\n",
    "list_val_predictions = []\n",
    "list_accuracy = []\n",
    "list_estimated_coef = []\n",
    "for alpha in list_l1_ratio:\n",
    "\n",
    "    ## DEFINE MODEL\n",
    "    logistic_elastic = LogisticRegression(penalty = 'elasticnet', l1_ratio = alpha, solver = 'saga')\n",
    "\n",
    "    logistic_elastic.fit(X_train, y_train)\n",
    "    ## not training on the full training set this time\n",
    "    yhat_logistic_elastic = logistic_elastic.predict(X_val)\n",
    "    ## recording predicted values, accuracy scores and calculated weights for each alpha value\n",
    "    list_val_predictions.append(yhat_logistic_elastic)\n",
    "    list_accuracy.append(accuracy_score(y_val, yhat_logistic_elastic))\n",
    "    list_estimated_coef.append(logistic_elastic.coef_)\n",
    "\n"
   ]
  },
  {
   "cell_type": "code",
   "execution_count": 637,
   "metadata": {},
   "outputs": [
    {
     "data": {
      "image/png": "[encoded data removed]",
      "text/plain": [
       "<Figure size 1440x504 with 1 Axes>"
      ]
     },
     "metadata": {
      "needs_background": "light"
     },
     "output_type": "display_data"
    }
   ],
   "source": [
    "plt.figure(figsize = (20,7))\n",
    "plt.plot(list_l1_ratio, list_accuracy)\n",
    "plt.xticks(list_l1_ratio, rotation = 45)\n",
    "plt.yticks(list_accuracy)\n",
    "plt.xlabel('Hyperparameter: alpha')\n",
    "plt.ylabel('model Accuracy Val set')\n",
    "plt.grid()\n",
    "plt.title(\"Logistic elasticnet hyperparameter tuning\")\n",
    "plt.show()"
   ]
  },
  {
   "cell_type": "code",
   "execution_count": 638,
   "metadata": {},
   "outputs": [
    {
     "name": "stdout",
     "output_type": "stream",
     "text": [
      "False\n",
      "False\n",
      "False\n",
      "False\n",
      "False\n",
      "False\n",
      "False\n",
      "False\n",
      "False\n",
      "False\n",
      "False\n",
      "False\n",
      "False\n",
      "False\n",
      "False\n",
      "False\n",
      "False\n",
      "False\n",
      "False\n",
      "False\n",
      "False\n",
      "False\n",
      "False\n",
      "False\n",
      "False\n",
      "False\n",
      "False\n",
      "False\n",
      "False\n",
      "False\n",
      "False\n",
      "False\n",
      "False\n",
      "False\n"
     ]
    }
   ],
   "source": [
    "## they are the same, have we made an error somewhere?\n",
    "\n",
    "for i in range(len(list_estimated_coef)-1):\n",
    "    print(list_estimated_coef[i].sum() == list_estimated_coef[i+1].sum())\n",
    "\n",
    "## therefore the parameters are different just that accuracy is largely unaffected by hyperparameter values.\n",
    "## best l1 value looks like 0.971"
   ]
  },
  {
   "cell_type": "code",
   "execution_count": 639,
   "metadata": {},
   "outputs": [
    {
     "name": "stdout",
     "output_type": "stream",
     "text": [
      "Accuracy: 91.02\n"
     ]
    }
   ],
   "source": [
    "## working with best l1_score value to predict on test set\n",
    "logistic_elastic = LogisticRegression(penalty = 'elasticnet', l1_ratio = 0.971, solver = 'saga').fit(X_train, y_train)\n",
    "## not training on the entire dataset again since the parameters are tuned to train set and not full train set\n",
    "yhat_logistic_elastic = logistic_elastic.predict(X_test)\n",
    "accuracy = accuracy_score(y_test, yhat_logistic_elastic)\n",
    "print('Accuracy: %.2f' % (accuracy*100))"
   ]
  },
  {
   "attachments": {},
   "cell_type": "markdown",
   "metadata": {},
   "source": [
    "### logistic regression elastic with cross validation\n",
    "\n",
    "tuning two hyperparameters : C and l1_ratio(alpha)\n",
    "\n",
    "loss function = \n",
    "$$\n",
    "  C\\cdot l(\\beta;Z) + \\alpha||\\beta||_1 + (1-\\alpha)\\frac{1}{2}||\\beta||_2^2\n",
    "$$"
   ]
  },
  {
   "cell_type": "code",
   "execution_count": 641,
   "metadata": {},
   "outputs": [
    {
     "name": "stdout",
     "output_type": "stream",
     "text": [
      "Test Accuracy: 91.02\n"
     ]
    }
   ],
   "source": [
    "# define the model with elastcnet penalty\n",
    "\n",
    "logistic_en_CV= LogisticRegressionCV(penalty='elasticnet',solver='saga',cv= 10 ,max_iter=1000,\n",
    "                                     random_state=2022, l1_ratios=list_l1_ratio)  ## list of l1_ratios we generated earlier\n",
    "# fit on the training set\n",
    "logistic_en_CV.fit(X_full_train, y_full_train)\n",
    "# predict on test set\n",
    "yhat_logistic_en_CV = logistic_en_CV.predict(X_test)\n",
    "# evaluate predictions\n",
    "accuracy = accuracy_score(y_test, yhat_logistic_en_CV)\n",
    "print('Test Accuracy: %.2f' % (accuracy*100))"
   ]
  },
  {
   "cell_type": "code",
   "execution_count": null,
   "metadata": {},
   "outputs": [
    {
     "name": "stdout",
     "output_type": "stream",
     "text": [
      "[0.35938137] [0.58823529]\n"
     ]
    }
   ],
   "source": [
    "print(logistic_en_CV.C_,logistic_en_CV.l1_ratio_) ## the chosen hyperparameters."
   ]
  },
  {
   "attachments": {},
   "cell_type": "markdown",
   "metadata": {},
   "source": [
    "## KNearestNeigbours"
   ]
  },
  {
   "cell_type": "code",
   "execution_count": null,
   "metadata": {},
   "outputs": [
    {
     "name": "stdout",
     "output_type": "stream",
     "text": [
      "Accuracy: 91.37\n"
     ]
    }
   ],
   "source": [
    "\n",
    "kNN = KNeighborsClassifier(n_neighbors = 10) ## random neigbour value\n",
    "# fit on the training set\n",
    "kNN.fit(X_full_train,y_full_train)\n",
    "# predict on test set\n",
    "yhat_kNN = kNN.predict(X_test)\n",
    "# evaluate predictions\n",
    "accuracy = accuracy_score(y_test, yhat_kNN)\n",
    "print('Accuracy: %.2f' % (accuracy*100))"
   ]
  },
  {
   "cell_type": "code",
   "execution_count": null,
   "metadata": {},
   "outputs": [
    {
     "data": {
      "image/png": "[encoded data removed]",
      "text/plain": [
       "<Figure size 432x288 with 1 Axes>"
      ]
     },
     "metadata": {
      "needs_background": "light"
     },
     "output_type": "display_data"
    }
   ],
   "source": [
    "\n",
    "fpr, tpr, thresholds = metrics.roc_curve(y_test, yhat_kNN)\n",
    "roc_auc = metrics.auc(fpr, tpr)\n",
    "display_knn = metrics.RocCurveDisplay(fpr=fpr, tpr=tpr, roc_auc=roc_auc, estimator_name ='KNN-7')\n",
    "display_knn.plot()\n",
    "plt.plot([0, 1], [0, 1], \"k--\", label=\"chance level (AUC = 0.5)\")\n",
    "plt.legend()\n",
    "plt.show()"
   ]
  },
  {
   "attachments": {},
   "cell_type": "markdown",
   "metadata": {},
   "source": [
    "### KNN with standard validation"
   ]
  },
  {
   "cell_type": "code",
   "execution_count": null,
   "metadata": {},
   "outputs": [],
   "source": [
    "neighbours = [neighbour for neighbour in range(1,25)]\n",
    "list_accuracy = []\n",
    "\n",
    "for neighbour in neighbours:\n",
    "    kNN = KNeighborsClassifier(n_neighbors = neighbour) ## random neigbour value\n",
    "    # fit on the training set\n",
    "    kNN.fit(X_train,y_train)\n",
    "    # predict on test set\n",
    "    yhat_kNN = kNN.predict(X_val)\n",
    "    # evaluate predictions\n",
    "    list_accuracy.append(accuracy_score(y_val, yhat_kNN))\n"
   ]
  },
  {
   "cell_type": "code",
   "execution_count": null,
   "metadata": {},
   "outputs": [
    {
     "data": {
      "image/png": "[encoded data removed]",
      "text/plain": [
       "<Figure size 1440x1080 with 1 Axes>"
      ]
     },
     "metadata": {
      "needs_background": "light"
     },
     "output_type": "display_data"
    }
   ],
   "source": [
    "plt.figure(figsize = (20,15))\n",
    "plt.plot(neighbours, list_accuracy)\n",
    "plt.xticks(neighbours, rotation = 45)\n",
    "plt.yticks(list_accuracy, rotation = 10)\n",
    "plt.xlabel('Hyperparameter: neigbours')\n",
    "plt.ylabel('model Accuracy Val set')\n",
    "plt.grid()\n",
    "plt.title(\"KNN hyperparameter tuning\")\n",
    "plt.show()"
   ]
  },
  {
   "cell_type": "code",
   "execution_count": null,
   "metadata": {},
   "outputs": [
    {
     "name": "stdout",
     "output_type": "stream",
     "text": [
      "Accuracy: 91.54\n"
     ]
    }
   ],
   "source": [
    "## working with the best hyperparameter: 5\n",
    "\n",
    "kNN = KNeighborsClassifier(n_neighbors = 5) ## random neigbour value\n",
    "# fit on the training set\n",
    "kNN.fit(X_full_train,y_full_train)\n",
    "# predict on test set\n",
    "yhat_kNN = kNN.predict(X_test)\n",
    "# evaluate predictions\n",
    "accuracy = accuracy_score(y_test, yhat_kNN)\n",
    "print('Accuracy: %.2f' % (accuracy*100))"
   ]
  },
  {
   "attachments": {},
   "cell_type": "markdown",
   "metadata": {},
   "source": [
    "### KNN with cross validation"
   ]
  },
  {
   "cell_type": "code",
   "execution_count": null,
   "metadata": {},
   "outputs": [
    {
     "data": {
      "text/plain": [
       "dict_keys(['explained_variance', 'r2', 'max_error', 'neg_median_absolute_error', 'neg_mean_absolute_error', 'neg_mean_absolute_percentage_error', 'neg_mean_squared_error', 'neg_mean_squared_log_error', 'neg_root_mean_squared_error', 'neg_mean_poisson_deviance', 'neg_mean_gamma_deviance', 'accuracy', 'top_k_accuracy', 'roc_auc', 'roc_auc_ovr', 'roc_auc_ovo', 'roc_auc_ovr_weighted', 'roc_auc_ovo_weighted', 'balanced_accuracy', 'average_precision', 'neg_log_loss', 'neg_brier_score', 'adjusted_rand_score', 'rand_score', 'homogeneity_score', 'completeness_score', 'v_measure_score', 'mutual_info_score', 'adjusted_mutual_info_score', 'normalized_mutual_info_score', 'fowlkes_mallows_score', 'precision', 'precision_macro', 'precision_micro', 'precision_samples', 'precision_weighted', 'recall', 'recall_macro', 'recall_micro', 'recall_samples', 'recall_weighted', 'f1', 'f1_macro', 'f1_micro', 'f1_samples', 'f1_weighted', 'jaccard', 'jaccard_macro', 'jaccard_micro', 'jaccard_samples', 'jaccard_weighted'])"
      ]
     },
     "execution_count": 485,
     "metadata": {},
     "output_type": "execute_result"
    }
   ],
   "source": [
    "import sklearn\n",
    "sklearn.metrics.SCORERS.keys() ## sklearn list of scoring metrics"
   ]
  },
  {
   "cell_type": "code",
   "execution_count": null,
   "metadata": {},
   "outputs": [],
   "source": [
    "## no standard function for CV, we must write our own using cross_val_score\n",
    "# choose k between 1 to 31\n",
    "k_range = range(1, 31)\n",
    "k_scores = []\n",
    "# use iteration to caclulator different k in models, then return the average accuracy based on the cross validation\n",
    "for k in k_range:\n",
    "    kNN_CV = KNeighborsClassifier(n_neighbors=k)\n",
    "    scores = cross_val_score(kNN_CV, X_full_train, y_full_train, cv = 10, scoring = 'accuracy')\n",
    "    k_scores.append(scores.mean())"
   ]
  },
  {
   "cell_type": "code",
   "execution_count": null,
   "metadata": {},
   "outputs": [
    {
     "name": "stdout",
     "output_type": "stream",
     "text": [
      "Best k = 5\n"
     ]
    }
   ],
   "source": [
    "# choose the best k\n",
    "idx_best_k = np.argmax(k_scores)\n",
    "best_k = k_range[idx_best_k]\n",
    "print('Best k = {}'.format(best_k))"
   ]
  },
  {
   "cell_type": "code",
   "execution_count": null,
   "metadata": {},
   "outputs": [
    {
     "name": "stdout",
     "output_type": "stream",
     "text": [
      "Accuracy: 91.54\n"
     ]
    }
   ],
   "source": [
    "## working with the best hyperparameter: 5\n",
    "\n",
    "kNN = KNeighborsClassifier(n_neighbors = 5) ## random neigbour value\n",
    "# fit on the training set\n",
    "kNN.fit(X_full_train,y_full_train)\n",
    "# predict on test set\n",
    "yhat_kNN = kNN.predict(X_test)\n",
    "# evaluate predictions\n",
    "accuracy = accuracy_score(y_test, yhat_kNN)\n",
    "print('Accuracy: %.2f' % (accuracy*100))"
   ]
  },
  {
   "attachments": {},
   "cell_type": "markdown",
   "metadata": {},
   "source": [
    "## Decision trees"
   ]
  },
  {
   "cell_type": "code",
   "execution_count": null,
   "metadata": {},
   "outputs": [
    {
     "name": "stdout",
     "output_type": "stream",
     "text": [
      "Accuracy: 94.94\n"
     ]
    }
   ],
   "source": [
    "# define the model: using metric entropy\n",
    "\n",
    "DT = DecisionTreeClassifier(random_state=2023,criterion='gini')\n",
    "# fit on the training set\n",
    "DT.fit(X_full_train,y_full_train)\n",
    "# predict on test set\n",
    "yhat_DT = DT.predict(X_test)\n",
    "# evaluate predictions\n",
    "accuracy = accuracy_score(y_test, yhat_DT)\n",
    "print('Accuracy: %.2f' % (accuracy*100))"
   ]
  },
  {
   "cell_type": "code",
   "execution_count": null,
   "metadata": {},
   "outputs": [],
   "source": [
    "## we don't need standardised data for the tree classifiers, how well does the tree do on non standardized data?\n",
    "\n",
    "X_full_train_tree, X_test_tree, y_full_train_tree, y_test_tree, ID_full_train_tree, ID_test_tree = train_test_split(X, y, client_ids, test_size=0.15, random_state=2022)"
   ]
  },
  {
   "cell_type": "code",
   "execution_count": null,
   "metadata": {},
   "outputs": [
    {
     "name": "stdout",
     "output_type": "stream",
     "text": [
      "Accuracy: 94.94\n"
     ]
    }
   ],
   "source": [
    "# define the model: using metric entropy\n",
    "DT = DecisionTreeClassifier(random_state=2023, criterion='gini')\n",
    "# fit on the training set\n",
    "DT.fit(X_full_train_tree,y_full_train_tree)\n",
    "# predict on test set\n",
    "yhat_DT = DT.predict(X_test_tree)\n",
    "# evaluate predictions\n",
    "accuracy = accuracy_score(y_test_tree, yhat_DT)\n",
    "print('Accuracy: %.2f' % (accuracy*100))"
   ]
  },
  {
   "cell_type": "code",
   "execution_count": null,
   "metadata": {},
   "outputs": [
    {
     "name": "stdout",
     "output_type": "stream",
     "text": [
      "{'ccp_alpha': 0.0, 'class_weight': None, 'criterion': 'gini', 'max_depth': None, 'max_features': None, 'max_leaf_nodes': None, 'min_impurity_decrease': 0.0, 'min_samples_leaf': 1, 'min_samples_split': 2, 'min_weight_fraction_leaf': 0.0, 'random_state': 2023, 'splitter': 'best'}\n"
     ]
    }
   ],
   "source": [
    "print(DT.get_params())"
   ]
  },
  {
   "attachments": {},
   "cell_type": "markdown",
   "metadata": {},
   "source": [
    "### Decision trees with Pre-pruning"
   ]
  },
  {
   "cell_type": "code",
   "execution_count": null,
   "metadata": {},
   "outputs": [
    {
     "name": "stdout",
     "output_type": "stream",
     "text": [
      "Fitting 10 folds for each of 576 candidates, totalling 5760 fits\n",
      "{'criterion': 'gini', 'max_depth': 6, 'min_samples_leaf': 2, 'min_samples_split': 7}\n"
     ]
    }
   ],
   "source": [
    "# import GridSearchCV: to tune multiple parameters at a time\n",
    "# define hyperparameters (dictionary) and all sort of values for each hyperparameter we are tuning\n",
    "dict_hyperparam = {\n",
    "                  'criterion': ['gini', 'entropy'], \n",
    "                  'max_depth': range(1,10),\n",
    "                  'min_samples_split': range(2,10),\n",
    "                  'min_samples_leaf': range(1,5)\n",
    "                  }\n",
    "# define the model\n",
    "DT = DecisionTreeClassifier(random_state=2023)\n",
    "DT_GS = GridSearchCV(DT, param_grid=dict_hyperparam,cv=10,verbose=1,\n",
    "                     n_jobs=-1) # n_jobs=-1 using all processors for parallel computation. \n",
    "DT_GS.fit(X_full_train,y_full_train)\n",
    "## prinitning the best hyperparameters\n",
    "print(DT_GS.best_params_)"
   ]
  },
  {
   "cell_type": "code",
   "execution_count": null,
   "metadata": {},
   "outputs": [
    {
     "name": "stdout",
     "output_type": "stream",
     "text": [
      "Test Accuracy: 94.68\n"
     ]
    }
   ],
   "source": [
    "# define the best model\n",
    "DT_best = DecisionTreeClassifier(criterion= DT_GS.best_params_['criterion'],\n",
    "                            max_depth= DT_GS.best_params_['max_depth'],\n",
    "                            min_samples_leaf = DT_GS.best_params_['min_samples_leaf'],\n",
    "                            min_samples_split = DT_GS.best_params_['min_samples_split'],\n",
    "                            random_state=2023)\n",
    "# fit the model\n",
    "DT_best.fit(X_full_train,y_full_train)\n",
    "# predict on test set\n",
    "yhat_DT = DT_best.predict(X_test)\n",
    "# evaluate with test sample\n",
    "accuracy = accuracy_score(y_test, yhat_DT)\n",
    "print('Test Accuracy: %.2f' % (accuracy*100))"
   ]
  },
  {
   "cell_type": "code",
   "execution_count": null,
   "metadata": {},
   "outputs": [
    {
     "data": {
      "image/png": "[encoded data removed]",
      "text/plain": [
       "<Figure size 150x150 with 1 Axes>"
      ]
     },
     "metadata": {
      "needs_background": "light"
     },
     "output_type": "display_data"
    }
   ],
   "source": [
    "fig, axes = plt.subplots(nrows = 1,ncols = 1,figsize = (0.5,0.5), dpi= 300)\n",
    "sklearn.tree.plot_tree(DT_best,\n",
    "               feature_names = features, \n",
    "               class_names=['Existing Customers','Attrited Customers'],\n",
    "               filled = True)\n",
    "plt.show()\n",
    "fig.savefig('Decision_tree_prepruning_best.png')\n",
    "\n",
    "## note that we may use graphivz to save a better visualization to our machine."
   ]
  },
  {
   "attachments": {},
   "cell_type": "markdown",
   "metadata": {},
   "source": [
    "## Random forest "
   ]
  },
  {
   "cell_type": "code",
   "execution_count": null,
   "metadata": {},
   "outputs": [
    {
     "name": "stdout",
     "output_type": "stream",
     "text": [
      "Accuracy: 96.51\n"
     ]
    }
   ],
   "source": [
    "# define the model: using loss criteria ginni\n",
    "RF = RandomForestClassifier(n_estimators=59, criterion='gini', random_state=2022) ## gives best with randomstate as 2027\n",
    "# fit on the training set\n",
    "RF.fit(X_full_train,y_full_train)\n",
    "# predict on test set\n",
    "yhat_RF = RF.predict(X_test)\n",
    "# evaluate predictions\n",
    "accuracy = accuracy_score(y_test, yhat_RF)\n",
    "print('Accuracy: %.2f' % (accuracy*100))"
   ]
  },
  {
   "cell_type": "code",
   "execution_count": null,
   "metadata": {},
   "outputs": [
    {
     "name": "stdout",
     "output_type": "stream",
     "text": [
      "Test Accuracy: 97.56\n"
     ]
    }
   ],
   "source": [
    "# define the model: using metric entropy\n",
    "RF = RandomForestClassifier(n_estimators=1000, criterion='gini', random_state=2022, n_jobs = -1, bootstrap= False)  ## gives best with randomstate as 2027\n",
    "# fit on the training set\n",
    "RF.fit(X_full_train_tree,y_full_train_tree)\n",
    "# predict on test set\n",
    "yhat_RF = RF.predict(X_test_tree)\n",
    "# evaluate predictions\n",
    "accuracy = accuracy_score(y_test_tree, yhat_RF)\n",
    "print('Test Accuracy: %.2f' % (accuracy*100))\n",
    "\n",
    "## since the model performs beautifully on test data, no overfitting, we do not need to prune it further, but if we had to how would we?"
   ]
  },
  {
   "cell_type": "code",
   "execution_count": null,
   "metadata": {},
   "outputs": [
    {
     "name": "stdout",
     "output_type": "stream",
     "text": [
      "{'bootstrap': False, 'ccp_alpha': 0.0, 'class_weight': None, 'criterion': 'gini', 'max_depth': None, 'max_features': 'auto', 'max_leaf_nodes': None, 'max_samples': None, 'min_impurity_decrease': 0.0, 'min_samples_leaf': 1, 'min_samples_split': 2, 'min_weight_fraction_leaf': 0.0, 'n_estimators': 1000, 'n_jobs': -1, 'oob_score': False, 'random_state': 2022, 'verbose': 0, 'warm_start': False}\n"
     ]
    }
   ],
   "source": [
    "print(RF.get_params())"
   ]
  },
  {
   "attachments": {},
   "cell_type": "markdown",
   "metadata": {},
   "source": [
    "### Random forest with pre-pruning"
   ]
  },
  {
   "cell_type": "code",
   "execution_count": null,
   "metadata": {},
   "outputs": [
    {
     "name": "stdout",
     "output_type": "stream",
     "text": [
      "Fitting 10 folds for each of 1900 candidates, totalling 19000 fits\n",
      "{'criterion': 'gini', 'max_depth': 9, 'min_samples_leaf': 1, 'min_samples_split': 6, 'n_estimators': 750}\n"
     ]
    }
   ],
   "source": [
    "# import GridSearchCV: to tune multiple parameters at a time\n",
    "\n",
    "\n",
    "# define hyperparameters (dictionary) and all sort of values for each hyperparameter we are tuning\n",
    "dict_hyperparam = {\n",
    "                  'criterion': ['gini'], \n",
    "                  'n_estimators' : range(50,1000,50),\n",
    "                  'max_depth': range(5,10),\n",
    "                  'min_samples_split': range(1,10),\n",
    "                  'min_samples_leaf': range(1,5)\n",
    "                  }\n",
    "# define the model\n",
    "RF = RandomForestClassifier(random_state=2023)\n",
    "RF_GS = GridSearchCV(RF, param_grid = dict_hyperparam, cv=10, verbose=1, n_jobs=-1) # n_jobs=-1 using all processors for parallel computation. \n",
    "RF_GS.fit(X_full_train,y_full_train)\n",
    "\n",
    "## prinitning the best hyperparameters\n",
    "print(RF_GS.best_params_)"
   ]
  },
  {
   "cell_type": "code",
   "execution_count": null,
   "metadata": {},
   "outputs": [],
   "source": [
    "# RF_GS.best_params_: {'criterion': 'gini', 'max_depth': 9, 'min_samples_leaf': 1, 'min_samples_split': 6, 'n_estimators': 750}"
   ]
  },
  {
   "cell_type": "code",
   "execution_count": null,
   "metadata": {},
   "outputs": [
    {
     "name": "stdout",
     "output_type": "stream",
     "text": [
      "Test Accuracy: 96.25\n"
     ]
    }
   ],
   "source": [
    "# define the best model\n",
    "RF_best = RandomForestClassifier(n_estimators = RF_GS.best_params_['n_estimators'], criterion= RF_GS.best_params_['criterion'],\n",
    "                            max_depth= RF_GS.best_params_['max_depth'],\n",
    "                            min_samples_leaf = RF_GS.best_params_['min_samples_leaf'],\n",
    "                            min_samples_split = RF_GS.best_params_['min_samples_split'],\n",
    "                            random_state=2022)\n",
    "# fit the model\n",
    "RF_best.fit(X_full_train,y_full_train)\n",
    "# predict on test set\n",
    "yhat_RF = RF_best.predict(X_test)\n",
    "# evaluate with test sample\n",
    "accuracy = accuracy_score(y_test, yhat_RF)\n",
    "print('Test Accuracy: %.2f' % (accuracy*100))"
   ]
  },
  {
   "attachments": {},
   "cell_type": "markdown",
   "metadata": {},
   "source": [
    "# What features are most relavant to customer's decisions of leaving the credict card service?"
   ]
  },
  {
   "cell_type": "code",
   "execution_count": null,
   "metadata": {},
   "outputs": [
    {
     "data": {
      "text/html": [
       "<div>\n",
       "<style scoped>\n",
       "    .dataframe tbody tr th:only-of-type {\n",
       "        vertical-align: middle;\n",
       "    }\n",
       "\n",
       "    .dataframe tbody tr th {\n",
       "        vertical-align: top;\n",
       "    }\n",
       "\n",
       "    .dataframe thead th {\n",
       "        text-align: right;\n",
       "    }\n",
       "</style>\n",
       "<table border=\"1\" class=\"dataframe\">\n",
       "  <thead>\n",
       "    <tr style=\"text-align: right;\">\n",
       "      <th></th>\n",
       "      <th>feature importance</th>\n",
       "    </tr>\n",
       "  </thead>\n",
       "  <tbody>\n",
       "    <tr>\n",
       "      <th>Total_Trans_Amt</th>\n",
       "      <td>0.188688</td>\n",
       "    </tr>\n",
       "    <tr>\n",
       "      <th>Total_Trans_Ct</th>\n",
       "      <td>0.173497</td>\n",
       "    </tr>\n",
       "    <tr>\n",
       "      <th>Total_Revolving_Bal</th>\n",
       "      <td>0.110003</td>\n",
       "    </tr>\n",
       "    <tr>\n",
       "      <th>Total_Ct_Chng_Q4_Q1</th>\n",
       "      <td>0.103011</td>\n",
       "    </tr>\n",
       "    <tr>\n",
       "      <th>Total_Relationship_Count</th>\n",
       "      <td>0.067547</td>\n",
       "    </tr>\n",
       "    <tr>\n",
       "      <th>Avg_Utilization_Ratio</th>\n",
       "      <td>0.066363</td>\n",
       "    </tr>\n",
       "    <tr>\n",
       "      <th>Total_Amt_Chng_Q4_Q1</th>\n",
       "      <td>0.064861</td>\n",
       "    </tr>\n",
       "    <tr>\n",
       "      <th>Customer_Age</th>\n",
       "      <td>0.034611</td>\n",
       "    </tr>\n",
       "    <tr>\n",
       "      <th>Credit_Limit</th>\n",
       "      <td>0.033500</td>\n",
       "    </tr>\n",
       "    <tr>\n",
       "      <th>Avg_Open_To_Buy</th>\n",
       "      <td>0.032132</td>\n",
       "    </tr>\n",
       "    <tr>\n",
       "      <th>Contacts_Count_12_mon</th>\n",
       "      <td>0.026110</td>\n",
       "    </tr>\n",
       "    <tr>\n",
       "      <th>Months_Inactive_12_mon</th>\n",
       "      <td>0.025191</td>\n",
       "    </tr>\n",
       "    <tr>\n",
       "      <th>Months_on_book</th>\n",
       "      <td>0.025118</td>\n",
       "    </tr>\n",
       "    <tr>\n",
       "      <th>Dependent_count</th>\n",
       "      <td>0.012353</td>\n",
       "    </tr>\n",
       "    <tr>\n",
       "      <th>Education_Level</th>\n",
       "      <td>0.011298</td>\n",
       "    </tr>\n",
       "    <tr>\n",
       "      <th>Income_Category</th>\n",
       "      <td>0.008890</td>\n",
       "    </tr>\n",
       "    <tr>\n",
       "      <th>F</th>\n",
       "      <td>0.006636</td>\n",
       "    </tr>\n",
       "    <tr>\n",
       "      <th>M</th>\n",
       "      <td>0.006612</td>\n",
       "    </tr>\n",
       "    <tr>\n",
       "      <th>Card_Category</th>\n",
       "      <td>0.003579</td>\n",
       "    </tr>\n",
       "  </tbody>\n",
       "</table>\n",
       "</div>"
      ],
      "text/plain": [
       "                          feature importance\n",
       "Total_Trans_Amt                     0.188688\n",
       "Total_Trans_Ct                      0.173497\n",
       "Total_Revolving_Bal                 0.110003\n",
       "Total_Ct_Chng_Q4_Q1                 0.103011\n",
       "Total_Relationship_Count            0.067547\n",
       "Avg_Utilization_Ratio               0.066363\n",
       "Total_Amt_Chng_Q4_Q1                0.064861\n",
       "Customer_Age                        0.034611\n",
       "Credit_Limit                        0.033500\n",
       "Avg_Open_To_Buy                     0.032132\n",
       "Contacts_Count_12_mon               0.026110\n",
       "Months_Inactive_12_mon              0.025191\n",
       "Months_on_book                      0.025118\n",
       "Dependent_count                     0.012353\n",
       "Education_Level                     0.011298\n",
       "Income_Category                     0.008890\n",
       "F                                   0.006636\n",
       "M                                   0.006612\n",
       "Card_Category                       0.003579"
      ]
     },
     "execution_count": 582,
     "metadata": {},
     "output_type": "execute_result"
    }
   ],
   "source": [
    "pd.DataFrame(RF.feature_importances_, index = features, columns =['feature importance']).sort_values('feature importance', ascending=False)"
   ]
  },
  {
   "attachments": {},
   "cell_type": "markdown",
   "metadata": {},
   "source": [
    "# We choose the random forest model with non-normalised data since it performs beautifully and generlaises well on unseen data.\n",
    "## End of notebook\n"
   ]
  }
 ],
 "metadata": {
  "kernelspec": {
   "display_name": ".venv",
   "language": "python",
   "name": "python3"
  },
  "language_info": {
   "codemirror_mode": {
    "name": "ipython",
    "version": 3
   },
   "file_extension": ".py",
   "mimetype": "text/x-python",
   "name": "python",
   "nbconvert_exporter": "python",
   "pygments_lexer": "ipython3",
   "version": "3.9.2"
  },
  "orig_nbformat": 4,
  "vscode": {
   "interpreter": {
    "hash": "83048d088ed3f2fc404e4f11990fc7cda1f99450b9a71c1d9af875c6d118a966"
   }
  }
 },
 "nbformat": 4,
 "nbformat_minor": 2
}
